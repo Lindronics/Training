{
  "nbformat": 4,
  "nbformat_minor": 0,
  "metadata": {
    "colab": {
      "name": "Untitled1.ipynb",
      "provenance": [],
      "collapsed_sections": []
    },
    "kernelspec": {
      "name": "python3",
      "display_name": "Python 3.9.0 64-bit",
      "metadata": {
        "interpreter": {
          "hash": "4cd7ab41f5fca4b9b44701077e38c5ffd31fe66a6cab21e0214b68d958d0e462"
        }
      }
    }
  },
  "cells": [
    {
      "cell_type": "code",
      "metadata": {
        "id": "Fv_tk5LC78kS"
      },
      "source": [
        "import pandas as pd"
      ],
      "execution_count": 139,
      "outputs": []
    },
    {
      "cell_type": "code",
      "metadata": {
        "id": "_s-NHA8n8Br5"
      },
      "source": [
        "records = {\n",
        "    'id': [100, 102, 103],\n",
        "    'name': [\"Shafeeq\", \"Lucy\", \"John\"],\n",
        "    'marks': [29, 49, 100]\n",
        "}"
      ],
      "execution_count": 140,
      "outputs": []
    },
    {
      "cell_type": "code",
      "metadata": {
        "id": "3YYLZdKw8MDh"
      },
      "source": [
        "df = pd.DataFrame(records)"
      ],
      "execution_count": 141,
      "outputs": []
    },
    {
      "cell_type": "code",
      "metadata": {
        "id": "AfmRIUpW8Qd5",
        "outputId": "1824e53a-6b65-4573-ced9-cf72b101c171",
        "colab": {
          "base_uri": "https://localhost:8080/"
        }
      },
      "source": [
        "print(df)"
      ],
      "execution_count": 142,
      "outputs": [
        {
          "output_type": "stream",
          "name": "stdout",
          "text": [
            "    id     name  marks\n0  100  Shafeeq     29\n1  102     Lucy     49\n2  103     John    100\n"
          ]
        }
      ]
    },
    {
      "cell_type": "code",
      "metadata": {
        "id": "UtCDBJWk-phg",
        "outputId": "81abd780-4eba-408e-8b48-1e5032b992ff",
        "colab": {
          "base_uri": "https://localhost:8080/"
        }
      },
      "source": [
        "print(df.describe())"
      ],
      "execution_count": 143,
      "outputs": [
        {
          "output_type": "stream",
          "name": "stdout",
          "text": [
            "               id       marks\ncount    3.000000    3.000000\nmean   101.666667   59.333333\nstd      1.527525   36.610563\nmin    100.000000   29.000000\n25%    101.000000   39.000000\n50%    102.000000   49.000000\n75%    102.500000   74.500000\nmax    103.000000  100.000000\n"
          ]
        }
      ]
    },
    {
      "cell_type": "code",
      "metadata": {
        "id": "i0irm87l-r18",
        "outputId": "11f8e8c0-ad19-44fe-e977-f2fbdb8eff08",
        "colab": {
          "base_uri": "https://localhost:8080/"
        }
      },
      "source": [
        "print(df.columns)"
      ],
      "execution_count": 144,
      "outputs": [
        {
          "output_type": "stream",
          "name": "stdout",
          "text": [
            "Index(['id', 'name', 'marks'], dtype='object')\n"
          ]
        }
      ]
    },
    {
      "cell_type": "code",
      "metadata": {
        "id": "2V-_B2-h-x4X"
      },
      "source": [
        "df.columns = [\"RegistrationNumber\", \"StudentName\", \"ExamMarks\"]"
      ],
      "execution_count": 145,
      "outputs": []
    },
    {
      "cell_type": "code",
      "metadata": {
        "id": "SNZDR7Sz-5j_",
        "outputId": "63ed66e8-ee67-4b4e-8e5b-20bb3dbb9017",
        "colab": {
          "base_uri": "https://localhost:8080/"
        }
      },
      "source": [
        "print(df)"
      ],
      "execution_count": 146,
      "outputs": [
        {
          "output_type": "stream",
          "name": "stdout",
          "text": [
            "   RegistrationNumber StudentName  ExamMarks\n0                 100     Shafeeq         29\n1                 102        Lucy         49\n2                 103        John        100\n"
          ]
        }
      ]
    },
    {
      "cell_type": "code",
      "metadata": {
        "id": "SdvftHZpCPWg",
        "outputId": "51781d3e-2ab4-49ff-8835-c46187669b4b",
        "colab": {
          "base_uri": "https://localhost:8080/"
        }
      },
      "source": [
        "print(df.head())"
      ],
      "execution_count": 147,
      "outputs": [
        {
          "output_type": "stream",
          "name": "stdout",
          "text": [
            "   RegistrationNumber StudentName  ExamMarks\n0                 100     Shafeeq         29\n1                 102        Lucy         49\n2                 103        John        100\n"
          ]
        }
      ]
    },
    {
      "cell_type": "code",
      "metadata": {
        "id": "4fiKXuuwDLpc",
        "outputId": "1925b59e-0cfa-4c9a-f178-e68ba2ec0cad",
        "colab": {
          "base_uri": "https://localhost:8080/",
          "height": 80
        }
      },
      "source": [
        "df[2:]"
      ],
      "execution_count": 148,
      "outputs": [
        {
          "output_type": "execute_result",
          "data": {
            "text/plain": [
              "   RegistrationNumber StudentName  ExamMarks\n",
              "2                 103        John        100"
            ],
            "text/html": "<div>\n<style scoped>\n    .dataframe tbody tr th:only-of-type {\n        vertical-align: middle;\n    }\n\n    .dataframe tbody tr th {\n        vertical-align: top;\n    }\n\n    .dataframe thead th {\n        text-align: right;\n    }\n</style>\n<table border=\"1\" class=\"dataframe\">\n  <thead>\n    <tr style=\"text-align: right;\">\n      <th></th>\n      <th>RegistrationNumber</th>\n      <th>StudentName</th>\n      <th>ExamMarks</th>\n    </tr>\n  </thead>\n  <tbody>\n    <tr>\n      <th>2</th>\n      <td>103</td>\n      <td>John</td>\n      <td>100</td>\n    </tr>\n  </tbody>\n</table>\n</div>"
          },
          "metadata": {},
          "execution_count": 148
        }
      ]
    },
    {
      "cell_type": "code",
      "execution_count": 149,
      "metadata": {},
      "outputs": [
        {
          "output_type": "execute_result",
          "data": {
            "text/plain": [
              "   RegistrationNumber StudentName\n",
              "0                 100     Shafeeq\n",
              "1                 102        Lucy\n",
              "2                 103        John"
            ],
            "text/html": "<div>\n<style scoped>\n    .dataframe tbody tr th:only-of-type {\n        vertical-align: middle;\n    }\n\n    .dataframe tbody tr th {\n        vertical-align: top;\n    }\n\n    .dataframe thead th {\n        text-align: right;\n    }\n</style>\n<table border=\"1\" class=\"dataframe\">\n  <thead>\n    <tr style=\"text-align: right;\">\n      <th></th>\n      <th>RegistrationNumber</th>\n      <th>StudentName</th>\n    </tr>\n  </thead>\n  <tbody>\n    <tr>\n      <th>0</th>\n      <td>100</td>\n      <td>Shafeeq</td>\n    </tr>\n    <tr>\n      <th>1</th>\n      <td>102</td>\n      <td>Lucy</td>\n    </tr>\n    <tr>\n      <th>2</th>\n      <td>103</td>\n      <td>John</td>\n    </tr>\n  </tbody>\n</table>\n</div>"
          },
          "metadata": {},
          "execution_count": 149
        }
      ],
      "source": [
        "df[['RegistrationNumber','StudentName']]"
      ]
    },
    {
      "cell_type": "code",
      "execution_count": 150,
      "metadata": {},
      "outputs": [],
      "source": [
        "df = pd.read_csv('./Sales_Records.csv')"
      ]
    },
    {
      "cell_type": "code",
      "execution_count": 151,
      "metadata": {},
      "outputs": [
        {
          "output_type": "execute_result",
          "data": {
            "text/plain": [
              "                         Region Country   Item Type Sales Channel  \\\n",
              "0  Middle East and North Africa   Libya   Cosmetics       Offline   \n",
              "1                 North America  Canada  Vegetables        Online   \n",
              "2  Middle East and North Africa   Libya   Baby Food       Offline   \n",
              "3                          Asia   Japan      Cereal       Offline   \n",
              "4            Sub-Saharan Africa    Chad      Fruits       Offline   \n",
              "\n",
              "  Order Priority  Order Date   Order ID   Ship Date  Units Sold  Unit Price  \\\n",
              "0              M  10/18/2014  686800706  10/31/2014        8446      437.20   \n",
              "1              M  11/07/2011  185941302  12/08/2011        3018      154.06   \n",
              "2              C  10/31/2016  246222341  12/09/2016        1517      255.28   \n",
              "3              C  04/10/2010  161442649  05/12/2010        3322      205.70   \n",
              "4              H   8/16/2011  645713555   8/31/2011        9845        9.33   \n",
              "\n",
              "   Unit Cost  Total Revenue  Total Cost  Total Profit  \n",
              "0     263.33     3692591.20  2224085.18    1468506.02  \n",
              "1      90.93      464953.08   274426.74     190526.34  \n",
              "2     159.42      387259.76   241840.14     145419.62  \n",
              "3     117.11      683335.40   389039.42     294295.98  \n",
              "4       6.92       91853.85    68127.40      23726.45  "
            ],
            "text/html": "<div>\n<style scoped>\n    .dataframe tbody tr th:only-of-type {\n        vertical-align: middle;\n    }\n\n    .dataframe tbody tr th {\n        vertical-align: top;\n    }\n\n    .dataframe thead th {\n        text-align: right;\n    }\n</style>\n<table border=\"1\" class=\"dataframe\">\n  <thead>\n    <tr style=\"text-align: right;\">\n      <th></th>\n      <th>Region</th>\n      <th>Country</th>\n      <th>Item Type</th>\n      <th>Sales Channel</th>\n      <th>Order Priority</th>\n      <th>Order Date</th>\n      <th>Order ID</th>\n      <th>Ship Date</th>\n      <th>Units Sold</th>\n      <th>Unit Price</th>\n      <th>Unit Cost</th>\n      <th>Total Revenue</th>\n      <th>Total Cost</th>\n      <th>Total Profit</th>\n    </tr>\n  </thead>\n  <tbody>\n    <tr>\n      <th>0</th>\n      <td>Middle East and North Africa</td>\n      <td>Libya</td>\n      <td>Cosmetics</td>\n      <td>Offline</td>\n      <td>M</td>\n      <td>10/18/2014</td>\n      <td>686800706</td>\n      <td>10/31/2014</td>\n      <td>8446</td>\n      <td>437.20</td>\n      <td>263.33</td>\n      <td>3692591.20</td>\n      <td>2224085.18</td>\n      <td>1468506.02</td>\n    </tr>\n    <tr>\n      <th>1</th>\n      <td>North America</td>\n      <td>Canada</td>\n      <td>Vegetables</td>\n      <td>Online</td>\n      <td>M</td>\n      <td>11/07/2011</td>\n      <td>185941302</td>\n      <td>12/08/2011</td>\n      <td>3018</td>\n      <td>154.06</td>\n      <td>90.93</td>\n      <td>464953.08</td>\n      <td>274426.74</td>\n      <td>190526.34</td>\n    </tr>\n    <tr>\n      <th>2</th>\n      <td>Middle East and North Africa</td>\n      <td>Libya</td>\n      <td>Baby Food</td>\n      <td>Offline</td>\n      <td>C</td>\n      <td>10/31/2016</td>\n      <td>246222341</td>\n      <td>12/09/2016</td>\n      <td>1517</td>\n      <td>255.28</td>\n      <td>159.42</td>\n      <td>387259.76</td>\n      <td>241840.14</td>\n      <td>145419.62</td>\n    </tr>\n    <tr>\n      <th>3</th>\n      <td>Asia</td>\n      <td>Japan</td>\n      <td>Cereal</td>\n      <td>Offline</td>\n      <td>C</td>\n      <td>04/10/2010</td>\n      <td>161442649</td>\n      <td>05/12/2010</td>\n      <td>3322</td>\n      <td>205.70</td>\n      <td>117.11</td>\n      <td>683335.40</td>\n      <td>389039.42</td>\n      <td>294295.98</td>\n    </tr>\n    <tr>\n      <th>4</th>\n      <td>Sub-Saharan Africa</td>\n      <td>Chad</td>\n      <td>Fruits</td>\n      <td>Offline</td>\n      <td>H</td>\n      <td>8/16/2011</td>\n      <td>645713555</td>\n      <td>8/31/2011</td>\n      <td>9845</td>\n      <td>9.33</td>\n      <td>6.92</td>\n      <td>91853.85</td>\n      <td>68127.40</td>\n      <td>23726.45</td>\n    </tr>\n  </tbody>\n</table>\n</div>"
          },
          "metadata": {},
          "execution_count": 151
        }
      ],
      "source": [
        "df.head()"
      ]
    },
    {
      "cell_type": "code",
      "execution_count": 152,
      "metadata": {},
      "outputs": [
        {
          "output_type": "execute_result",
          "data": {
            "text/plain": [
              "     Region   Country  Item Type Sales Channel Order Priority  Order Date  \\\n",
              "998  Europe   Finland  Household       Offline              L   1/25/2016   \n",
              "999  Europe  Portugal     Cereal       Offline              C  04/10/2014   \n",
              "\n",
              "      Order ID   Ship Date  Units Sold  Unit Price  Unit Cost  Total Revenue  \\\n",
              "998  289606320   2/14/2016        9801      668.27     502.54     6549714.27   \n",
              "999  811546599  05/08/2014        3528      205.70     117.11      725709.60   \n",
              "\n",
              "     Total Cost  Total Profit  \n",
              "998  4925394.54    1624319.73  \n",
              "999   413164.08     312545.52  "
            ],
            "text/html": "<div>\n<style scoped>\n    .dataframe tbody tr th:only-of-type {\n        vertical-align: middle;\n    }\n\n    .dataframe tbody tr th {\n        vertical-align: top;\n    }\n\n    .dataframe thead th {\n        text-align: right;\n    }\n</style>\n<table border=\"1\" class=\"dataframe\">\n  <thead>\n    <tr style=\"text-align: right;\">\n      <th></th>\n      <th>Region</th>\n      <th>Country</th>\n      <th>Item Type</th>\n      <th>Sales Channel</th>\n      <th>Order Priority</th>\n      <th>Order Date</th>\n      <th>Order ID</th>\n      <th>Ship Date</th>\n      <th>Units Sold</th>\n      <th>Unit Price</th>\n      <th>Unit Cost</th>\n      <th>Total Revenue</th>\n      <th>Total Cost</th>\n      <th>Total Profit</th>\n    </tr>\n  </thead>\n  <tbody>\n    <tr>\n      <th>998</th>\n      <td>Europe</td>\n      <td>Finland</td>\n      <td>Household</td>\n      <td>Offline</td>\n      <td>L</td>\n      <td>1/25/2016</td>\n      <td>289606320</td>\n      <td>2/14/2016</td>\n      <td>9801</td>\n      <td>668.27</td>\n      <td>502.54</td>\n      <td>6549714.27</td>\n      <td>4925394.54</td>\n      <td>1624319.73</td>\n    </tr>\n    <tr>\n      <th>999</th>\n      <td>Europe</td>\n      <td>Portugal</td>\n      <td>Cereal</td>\n      <td>Offline</td>\n      <td>C</td>\n      <td>04/10/2014</td>\n      <td>811546599</td>\n      <td>05/08/2014</td>\n      <td>3528</td>\n      <td>205.70</td>\n      <td>117.11</td>\n      <td>725709.60</td>\n      <td>413164.08</td>\n      <td>312545.52</td>\n    </tr>\n  </tbody>\n</table>\n</div>"
          },
          "metadata": {},
          "execution_count": 152
        }
      ],
      "source": [
        "df.tail(2)"
      ]
    },
    {
      "cell_type": "code",
      "execution_count": 153,
      "metadata": {},
      "outputs": [
        {
          "output_type": "execute_result",
          "data": {
            "text/plain": [
              "                         Region Country\n",
              "1                 North America  Canada\n",
              "2  Middle East and North Africa   Libya\n",
              "3                          Asia   Japan\n",
              "4            Sub-Saharan Africa    Chad"
            ],
            "text/html": "<div>\n<style scoped>\n    .dataframe tbody tr th:only-of-type {\n        vertical-align: middle;\n    }\n\n    .dataframe tbody tr th {\n        vertical-align: top;\n    }\n\n    .dataframe thead th {\n        text-align: right;\n    }\n</style>\n<table border=\"1\" class=\"dataframe\">\n  <thead>\n    <tr style=\"text-align: right;\">\n      <th></th>\n      <th>Region</th>\n      <th>Country</th>\n    </tr>\n  </thead>\n  <tbody>\n    <tr>\n      <th>1</th>\n      <td>North America</td>\n      <td>Canada</td>\n    </tr>\n    <tr>\n      <th>2</th>\n      <td>Middle East and North Africa</td>\n      <td>Libya</td>\n    </tr>\n    <tr>\n      <th>3</th>\n      <td>Asia</td>\n      <td>Japan</td>\n    </tr>\n    <tr>\n      <th>4</th>\n      <td>Sub-Saharan Africa</td>\n      <td>Chad</td>\n    </tr>\n  </tbody>\n</table>\n</div>"
          },
          "metadata": {},
          "execution_count": 153
        }
      ],
      "source": [
        "df[['Region','Country']][1:5].head()"
      ]
    },
    {
      "cell_type": "code",
      "execution_count": 154,
      "metadata": {},
      "outputs": [],
      "source": [
        "amount = df['Unit Price'] * df['Units Sold']"
      ]
    },
    {
      "cell_type": "code",
      "execution_count": 155,
      "metadata": {},
      "outputs": [
        {
          "output_type": "execute_result",
          "data": {
            "text/plain": [
              "0    3692591.20\n",
              "1     464953.08\n",
              "2     387259.76\n",
              "3     683335.40\n",
              "4      91853.85\n",
              "dtype: float64"
            ]
          },
          "metadata": {},
          "execution_count": 155
        }
      ],
      "source": [
        "amount.head()"
      ]
    },
    {
      "cell_type": "code",
      "execution_count": 156,
      "metadata": {},
      "outputs": [],
      "source": [
        "resultsDf = pd.read_csv('./results.csv')"
      ]
    },
    {
      "cell_type": "code",
      "execution_count": 157,
      "metadata": {},
      "outputs": [
        {
          "output_type": "execute_result",
          "data": {
            "text/plain": [
              "              regno     physics  chemistry      maths       salary\n",
              "count     12.000000   11.000000  11.000000  11.000000    13.000000\n",
              "mean   14006.750000   76.636364  49.272727  49.818182  1728.000000\n",
              "std        3.957157   40.652854  22.534822  20.850986  1804.286516\n",
              "min    14001.000000   12.000000  13.000000  14.000000   567.000000\n",
              "25%    14003.750000   56.000000  30.500000  35.000000   876.000000\n",
              "50%    14006.500000   89.000000  55.000000  50.000000   900.000000\n",
              "75%    14009.500000  105.000000  65.500000  65.000000  1200.000000\n",
              "max    14013.000000  131.000000  76.000000  78.000000  5678.000000"
            ],
            "text/html": "<div>\n<style scoped>\n    .dataframe tbody tr th:only-of-type {\n        vertical-align: middle;\n    }\n\n    .dataframe tbody tr th {\n        vertical-align: top;\n    }\n\n    .dataframe thead th {\n        text-align: right;\n    }\n</style>\n<table border=\"1\" class=\"dataframe\">\n  <thead>\n    <tr style=\"text-align: right;\">\n      <th></th>\n      <th>regno</th>\n      <th>physics</th>\n      <th>chemistry</th>\n      <th>maths</th>\n      <th>salary</th>\n    </tr>\n  </thead>\n  <tbody>\n    <tr>\n      <th>count</th>\n      <td>12.000000</td>\n      <td>11.000000</td>\n      <td>11.000000</td>\n      <td>11.000000</td>\n      <td>13.000000</td>\n    </tr>\n    <tr>\n      <th>mean</th>\n      <td>14006.750000</td>\n      <td>76.636364</td>\n      <td>49.272727</td>\n      <td>49.818182</td>\n      <td>1728.000000</td>\n    </tr>\n    <tr>\n      <th>std</th>\n      <td>3.957157</td>\n      <td>40.652854</td>\n      <td>22.534822</td>\n      <td>20.850986</td>\n      <td>1804.286516</td>\n    </tr>\n    <tr>\n      <th>min</th>\n      <td>14001.000000</td>\n      <td>12.000000</td>\n      <td>13.000000</td>\n      <td>14.000000</td>\n      <td>567.000000</td>\n    </tr>\n    <tr>\n      <th>25%</th>\n      <td>14003.750000</td>\n      <td>56.000000</td>\n      <td>30.500000</td>\n      <td>35.000000</td>\n      <td>876.000000</td>\n    </tr>\n    <tr>\n      <th>50%</th>\n      <td>14006.500000</td>\n      <td>89.000000</td>\n      <td>55.000000</td>\n      <td>50.000000</td>\n      <td>900.000000</td>\n    </tr>\n    <tr>\n      <th>75%</th>\n      <td>14009.500000</td>\n      <td>105.000000</td>\n      <td>65.500000</td>\n      <td>65.000000</td>\n      <td>1200.000000</td>\n    </tr>\n    <tr>\n      <th>max</th>\n      <td>14013.000000</td>\n      <td>131.000000</td>\n      <td>76.000000</td>\n      <td>78.000000</td>\n      <td>5678.000000</td>\n    </tr>\n  </tbody>\n</table>\n</div>"
          },
          "metadata": {},
          "execution_count": 157
        }
      ],
      "source": [
        "resultsDf.describe()"
      ]
    },
    {
      "cell_type": "code",
      "execution_count": 158,
      "metadata": {},
      "outputs": [],
      "source": [
        "resultsDf['totalMarks'] = resultsDf['physics']+resultsDf['chemistry']+resultsDf['maths']"
      ]
    },
    {
      "cell_type": "code",
      "execution_count": 159,
      "metadata": {},
      "outputs": [
        {
          "output_type": "execute_result",
          "data": {
            "text/plain": [
              "     regno     name  physics  chemistry  maths Client  Subject  salary  \\\n",
              "0  14001.0  shafeeq     90.0       20.0   26.0    IBM     java    1000   \n",
              "1  14002.0    james    120.0       27.0   32.0   HSBC  c sharp    1200   \n",
              "2  14003.0    james    131.0       34.0   38.0   HSBC   python    1100   \n",
              "3  14004.0    Saeed     12.0        NaN   44.0    IBM   python     900   \n",
              "4  14005.0     John    120.0       48.0   50.0   HSBC     java     600   \n",
              "\n",
              "   totalMarks  \n",
              "0       136.0  \n",
              "1       179.0  \n",
              "2       203.0  \n",
              "3         NaN  \n",
              "4       218.0  "
            ],
            "text/html": "<div>\n<style scoped>\n    .dataframe tbody tr th:only-of-type {\n        vertical-align: middle;\n    }\n\n    .dataframe tbody tr th {\n        vertical-align: top;\n    }\n\n    .dataframe thead th {\n        text-align: right;\n    }\n</style>\n<table border=\"1\" class=\"dataframe\">\n  <thead>\n    <tr style=\"text-align: right;\">\n      <th></th>\n      <th>regno</th>\n      <th>name</th>\n      <th>physics</th>\n      <th>chemistry</th>\n      <th>maths</th>\n      <th>Client</th>\n      <th>Subject</th>\n      <th>salary</th>\n      <th>totalMarks</th>\n    </tr>\n  </thead>\n  <tbody>\n    <tr>\n      <th>0</th>\n      <td>14001.0</td>\n      <td>shafeeq</td>\n      <td>90.0</td>\n      <td>20.0</td>\n      <td>26.0</td>\n      <td>IBM</td>\n      <td>java</td>\n      <td>1000</td>\n      <td>136.0</td>\n    </tr>\n    <tr>\n      <th>1</th>\n      <td>14002.0</td>\n      <td>james</td>\n      <td>120.0</td>\n      <td>27.0</td>\n      <td>32.0</td>\n      <td>HSBC</td>\n      <td>c sharp</td>\n      <td>1200</td>\n      <td>179.0</td>\n    </tr>\n    <tr>\n      <th>2</th>\n      <td>14003.0</td>\n      <td>james</td>\n      <td>131.0</td>\n      <td>34.0</td>\n      <td>38.0</td>\n      <td>HSBC</td>\n      <td>python</td>\n      <td>1100</td>\n      <td>203.0</td>\n    </tr>\n    <tr>\n      <th>3</th>\n      <td>14004.0</td>\n      <td>Saeed</td>\n      <td>12.0</td>\n      <td>NaN</td>\n      <td>44.0</td>\n      <td>IBM</td>\n      <td>python</td>\n      <td>900</td>\n      <td>NaN</td>\n    </tr>\n    <tr>\n      <th>4</th>\n      <td>14005.0</td>\n      <td>John</td>\n      <td>120.0</td>\n      <td>48.0</td>\n      <td>50.0</td>\n      <td>HSBC</td>\n      <td>java</td>\n      <td>600</td>\n      <td>218.0</td>\n    </tr>\n  </tbody>\n</table>\n</div>"
          },
          "metadata": {},
          "execution_count": 159
        }
      ],
      "source": [
        "resultsDf.head()"
      ]
    },
    {
      "cell_type": "code",
      "execution_count": 160,
      "metadata": {},
      "outputs": [],
      "source": [
        "resultsDf['City']='Manchester'"
      ]
    },
    {
      "cell_type": "code",
      "execution_count": 161,
      "metadata": {},
      "outputs": [
        {
          "output_type": "execute_result",
          "data": {
            "text/plain": [
              "     regno     name  physics  chemistry  maths Client  Subject  salary  \\\n",
              "0  14001.0  shafeeq     90.0       20.0   26.0    IBM     java    1000   \n",
              "1  14002.0    james    120.0       27.0   32.0   HSBC  c sharp    1200   \n",
              "2  14003.0    james    131.0       34.0   38.0   HSBC   python    1100   \n",
              "3  14004.0    Saeed     12.0        NaN   44.0    IBM   python     900   \n",
              "4  14005.0     John    120.0       48.0   50.0   HSBC     java     600   \n",
              "\n",
              "   totalMarks        City  \n",
              "0       136.0  Manchester  \n",
              "1       179.0  Manchester  \n",
              "2       203.0  Manchester  \n",
              "3         NaN  Manchester  \n",
              "4       218.0  Manchester  "
            ],
            "text/html": "<div>\n<style scoped>\n    .dataframe tbody tr th:only-of-type {\n        vertical-align: middle;\n    }\n\n    .dataframe tbody tr th {\n        vertical-align: top;\n    }\n\n    .dataframe thead th {\n        text-align: right;\n    }\n</style>\n<table border=\"1\" class=\"dataframe\">\n  <thead>\n    <tr style=\"text-align: right;\">\n      <th></th>\n      <th>regno</th>\n      <th>name</th>\n      <th>physics</th>\n      <th>chemistry</th>\n      <th>maths</th>\n      <th>Client</th>\n      <th>Subject</th>\n      <th>salary</th>\n      <th>totalMarks</th>\n      <th>City</th>\n    </tr>\n  </thead>\n  <tbody>\n    <tr>\n      <th>0</th>\n      <td>14001.0</td>\n      <td>shafeeq</td>\n      <td>90.0</td>\n      <td>20.0</td>\n      <td>26.0</td>\n      <td>IBM</td>\n      <td>java</td>\n      <td>1000</td>\n      <td>136.0</td>\n      <td>Manchester</td>\n    </tr>\n    <tr>\n      <th>1</th>\n      <td>14002.0</td>\n      <td>james</td>\n      <td>120.0</td>\n      <td>27.0</td>\n      <td>32.0</td>\n      <td>HSBC</td>\n      <td>c sharp</td>\n      <td>1200</td>\n      <td>179.0</td>\n      <td>Manchester</td>\n    </tr>\n    <tr>\n      <th>2</th>\n      <td>14003.0</td>\n      <td>james</td>\n      <td>131.0</td>\n      <td>34.0</td>\n      <td>38.0</td>\n      <td>HSBC</td>\n      <td>python</td>\n      <td>1100</td>\n      <td>203.0</td>\n      <td>Manchester</td>\n    </tr>\n    <tr>\n      <th>3</th>\n      <td>14004.0</td>\n      <td>Saeed</td>\n      <td>12.0</td>\n      <td>NaN</td>\n      <td>44.0</td>\n      <td>IBM</td>\n      <td>python</td>\n      <td>900</td>\n      <td>NaN</td>\n      <td>Manchester</td>\n    </tr>\n    <tr>\n      <th>4</th>\n      <td>14005.0</td>\n      <td>John</td>\n      <td>120.0</td>\n      <td>48.0</td>\n      <td>50.0</td>\n      <td>HSBC</td>\n      <td>java</td>\n      <td>600</td>\n      <td>218.0</td>\n      <td>Manchester</td>\n    </tr>\n  </tbody>\n</table>\n</div>"
          },
          "metadata": {},
          "execution_count": 161
        }
      ],
      "source": [
        "resultsDf.head()"
      ]
    },
    {
      "cell_type": "code",
      "execution_count": 162,
      "metadata": {},
      "outputs": [
        {
          "output_type": "execute_result",
          "data": {
            "text/plain": [
              "     regno     name  physics  chemistry  maths Client  Subject  salary  \\\n",
              "0  14001.0  shafeeq     90.0       20.0   26.0    IBM     java    1000   \n",
              "1  14002.0    james    120.0       27.0   32.0   HSBC  c sharp    1200   \n",
              "2  14003.0    james    131.0       34.0   38.0   HSBC   python    1100   \n",
              "3  14004.0    Saeed     12.0        NaN   44.0    IBM   python     900   \n",
              "4  14005.0     John    120.0       48.0   50.0   HSBC     java     600   \n",
              "\n",
              "   totalMarks  \n",
              "0       136.0  \n",
              "1       179.0  \n",
              "2       203.0  \n",
              "3         NaN  \n",
              "4       218.0  "
            ],
            "text/html": "<div>\n<style scoped>\n    .dataframe tbody tr th:only-of-type {\n        vertical-align: middle;\n    }\n\n    .dataframe tbody tr th {\n        vertical-align: top;\n    }\n\n    .dataframe thead th {\n        text-align: right;\n    }\n</style>\n<table border=\"1\" class=\"dataframe\">\n  <thead>\n    <tr style=\"text-align: right;\">\n      <th></th>\n      <th>regno</th>\n      <th>name</th>\n      <th>physics</th>\n      <th>chemistry</th>\n      <th>maths</th>\n      <th>Client</th>\n      <th>Subject</th>\n      <th>salary</th>\n      <th>totalMarks</th>\n    </tr>\n  </thead>\n  <tbody>\n    <tr>\n      <th>0</th>\n      <td>14001.0</td>\n      <td>shafeeq</td>\n      <td>90.0</td>\n      <td>20.0</td>\n      <td>26.0</td>\n      <td>IBM</td>\n      <td>java</td>\n      <td>1000</td>\n      <td>136.0</td>\n    </tr>\n    <tr>\n      <th>1</th>\n      <td>14002.0</td>\n      <td>james</td>\n      <td>120.0</td>\n      <td>27.0</td>\n      <td>32.0</td>\n      <td>HSBC</td>\n      <td>c sharp</td>\n      <td>1200</td>\n      <td>179.0</td>\n    </tr>\n    <tr>\n      <th>2</th>\n      <td>14003.0</td>\n      <td>james</td>\n      <td>131.0</td>\n      <td>34.0</td>\n      <td>38.0</td>\n      <td>HSBC</td>\n      <td>python</td>\n      <td>1100</td>\n      <td>203.0</td>\n    </tr>\n    <tr>\n      <th>3</th>\n      <td>14004.0</td>\n      <td>Saeed</td>\n      <td>12.0</td>\n      <td>NaN</td>\n      <td>44.0</td>\n      <td>IBM</td>\n      <td>python</td>\n      <td>900</td>\n      <td>NaN</td>\n    </tr>\n    <tr>\n      <th>4</th>\n      <td>14005.0</td>\n      <td>John</td>\n      <td>120.0</td>\n      <td>48.0</td>\n      <td>50.0</td>\n      <td>HSBC</td>\n      <td>java</td>\n      <td>600</td>\n      <td>218.0</td>\n    </tr>\n  </tbody>\n</table>\n</div>"
          },
          "metadata": {},
          "execution_count": 162
        }
      ],
      "source": [
        "resultsDf.drop('City',1,inplace=True)\n",
        "resultsDf.head()"
      ]
    },
    {
      "cell_type": "code",
      "execution_count": 163,
      "metadata": {},
      "outputs": [
        {
          "output_type": "execute_result",
          "data": {
            "text/plain": [
              "                         Region Country   Item Type Sales Channel  \\\n",
              "0  Middle East and North Africa   Libya   Cosmetics       Offline   \n",
              "1                 North America  Canada  Vegetables        Online   \n",
              "2  Middle East and North Africa   Libya   Baby Food       Offline   \n",
              "3                          Asia   Japan      Cereal       Offline   \n",
              "4            Sub-Saharan Africa    Chad      Fruits       Offline   \n",
              "\n",
              "  Order Priority  Order Date   Order ID   Ship Date  Units Sold  Unit Price  \\\n",
              "0              M  10/18/2014  686800706  10/31/2014        8446      437.20   \n",
              "1              M  11/07/2011  185941302  12/08/2011        3018      154.06   \n",
              "2              C  10/31/2016  246222341  12/09/2016        1517      255.28   \n",
              "3              C  04/10/2010  161442649  05/12/2010        3322      205.70   \n",
              "4              H   8/16/2011  645713555   8/31/2011        9845        9.33   \n",
              "\n",
              "   Unit Cost  Total Revenue  Total Cost  Total Profit  \n",
              "0     263.33     3692591.20  2224085.18    1468506.02  \n",
              "1      90.93      464953.08   274426.74     190526.34  \n",
              "2     159.42      387259.76   241840.14     145419.62  \n",
              "3     117.11      683335.40   389039.42     294295.98  \n",
              "4       6.92       91853.85    68127.40      23726.45  "
            ],
            "text/html": "<div>\n<style scoped>\n    .dataframe tbody tr th:only-of-type {\n        vertical-align: middle;\n    }\n\n    .dataframe tbody tr th {\n        vertical-align: top;\n    }\n\n    .dataframe thead th {\n        text-align: right;\n    }\n</style>\n<table border=\"1\" class=\"dataframe\">\n  <thead>\n    <tr style=\"text-align: right;\">\n      <th></th>\n      <th>Region</th>\n      <th>Country</th>\n      <th>Item Type</th>\n      <th>Sales Channel</th>\n      <th>Order Priority</th>\n      <th>Order Date</th>\n      <th>Order ID</th>\n      <th>Ship Date</th>\n      <th>Units Sold</th>\n      <th>Unit Price</th>\n      <th>Unit Cost</th>\n      <th>Total Revenue</th>\n      <th>Total Cost</th>\n      <th>Total Profit</th>\n    </tr>\n  </thead>\n  <tbody>\n    <tr>\n      <th>0</th>\n      <td>Middle East and North Africa</td>\n      <td>Libya</td>\n      <td>Cosmetics</td>\n      <td>Offline</td>\n      <td>M</td>\n      <td>10/18/2014</td>\n      <td>686800706</td>\n      <td>10/31/2014</td>\n      <td>8446</td>\n      <td>437.20</td>\n      <td>263.33</td>\n      <td>3692591.20</td>\n      <td>2224085.18</td>\n      <td>1468506.02</td>\n    </tr>\n    <tr>\n      <th>1</th>\n      <td>North America</td>\n      <td>Canada</td>\n      <td>Vegetables</td>\n      <td>Online</td>\n      <td>M</td>\n      <td>11/07/2011</td>\n      <td>185941302</td>\n      <td>12/08/2011</td>\n      <td>3018</td>\n      <td>154.06</td>\n      <td>90.93</td>\n      <td>464953.08</td>\n      <td>274426.74</td>\n      <td>190526.34</td>\n    </tr>\n    <tr>\n      <th>2</th>\n      <td>Middle East and North Africa</td>\n      <td>Libya</td>\n      <td>Baby Food</td>\n      <td>Offline</td>\n      <td>C</td>\n      <td>10/31/2016</td>\n      <td>246222341</td>\n      <td>12/09/2016</td>\n      <td>1517</td>\n      <td>255.28</td>\n      <td>159.42</td>\n      <td>387259.76</td>\n      <td>241840.14</td>\n      <td>145419.62</td>\n    </tr>\n    <tr>\n      <th>3</th>\n      <td>Asia</td>\n      <td>Japan</td>\n      <td>Cereal</td>\n      <td>Offline</td>\n      <td>C</td>\n      <td>04/10/2010</td>\n      <td>161442649</td>\n      <td>05/12/2010</td>\n      <td>3322</td>\n      <td>205.70</td>\n      <td>117.11</td>\n      <td>683335.40</td>\n      <td>389039.42</td>\n      <td>294295.98</td>\n    </tr>\n    <tr>\n      <th>4</th>\n      <td>Sub-Saharan Africa</td>\n      <td>Chad</td>\n      <td>Fruits</td>\n      <td>Offline</td>\n      <td>H</td>\n      <td>8/16/2011</td>\n      <td>645713555</td>\n      <td>8/31/2011</td>\n      <td>9845</td>\n      <td>9.33</td>\n      <td>6.92</td>\n      <td>91853.85</td>\n      <td>68127.40</td>\n      <td>23726.45</td>\n    </tr>\n  </tbody>\n</table>\n</div>"
          },
          "metadata": {},
          "execution_count": 163
        }
      ],
      "source": [
        "df.head()"
      ]
    },
    {
      "cell_type": "code",
      "execution_count": 164,
      "metadata": {},
      "outputs": [
        {
          "output_type": "execute_result",
          "data": {
            "text/plain": [
              "  Country   Item Type      Amount\n",
              "0   Libya   Cosmetics  3692854.53\n",
              "1  Canada  Vegetables   465044.01\n",
              "2   Libya   Baby Food   387419.18\n",
              "3   Japan      Cereal   683452.51\n",
              "4    Chad      Fruits    91860.77"
            ],
            "text/html": "<div>\n<style scoped>\n    .dataframe tbody tr th:only-of-type {\n        vertical-align: middle;\n    }\n\n    .dataframe tbody tr th {\n        vertical-align: top;\n    }\n\n    .dataframe thead th {\n        text-align: right;\n    }\n</style>\n<table border=\"1\" class=\"dataframe\">\n  <thead>\n    <tr style=\"text-align: right;\">\n      <th></th>\n      <th>Country</th>\n      <th>Item Type</th>\n      <th>Amount</th>\n    </tr>\n  </thead>\n  <tbody>\n    <tr>\n      <th>0</th>\n      <td>Libya</td>\n      <td>Cosmetics</td>\n      <td>3692854.53</td>\n    </tr>\n    <tr>\n      <th>1</th>\n      <td>Canada</td>\n      <td>Vegetables</td>\n      <td>465044.01</td>\n    </tr>\n    <tr>\n      <th>2</th>\n      <td>Libya</td>\n      <td>Baby Food</td>\n      <td>387419.18</td>\n    </tr>\n    <tr>\n      <th>3</th>\n      <td>Japan</td>\n      <td>Cereal</td>\n      <td>683452.51</td>\n    </tr>\n    <tr>\n      <th>4</th>\n      <td>Chad</td>\n      <td>Fruits</td>\n      <td>91860.77</td>\n    </tr>\n  </tbody>\n</table>\n</div>"
          },
          "metadata": {},
          "execution_count": 164
        }
      ],
      "source": [
        "df['Amount']= df['Unit Price'] * df['Units Sold']+df['Unit Cost']\n",
        "df[['Country','Item Type','Amount']].head()"
      ]
    },
    {
      "cell_type": "code",
      "execution_count": 165,
      "metadata": {},
      "outputs": [
        {
          "output_type": "execute_result",
          "data": {
            "text/plain": [
              "     regno   name  physics  chemistry  maths Client  Subject  salary  \\\n",
              "1  14002.0  james    120.0       27.0   32.0   HSBC  c sharp    1200   \n",
              "2  14003.0  james    131.0       34.0   38.0   HSBC   python    1100   \n",
              "4  14005.0   John    120.0       48.0   50.0   HSBC     java     600   \n",
              "5  14006.0   Lucy     67.0       55.0    NaN   HSBC   python     567   \n",
              "\n",
              "   totalMarks  \n",
              "1       179.0  \n",
              "2       203.0  \n",
              "4       218.0  \n",
              "5         NaN  "
            ],
            "text/html": "<div>\n<style scoped>\n    .dataframe tbody tr th:only-of-type {\n        vertical-align: middle;\n    }\n\n    .dataframe tbody tr th {\n        vertical-align: top;\n    }\n\n    .dataframe thead th {\n        text-align: right;\n    }\n</style>\n<table border=\"1\" class=\"dataframe\">\n  <thead>\n    <tr style=\"text-align: right;\">\n      <th></th>\n      <th>regno</th>\n      <th>name</th>\n      <th>physics</th>\n      <th>chemistry</th>\n      <th>maths</th>\n      <th>Client</th>\n      <th>Subject</th>\n      <th>salary</th>\n      <th>totalMarks</th>\n    </tr>\n  </thead>\n  <tbody>\n    <tr>\n      <th>1</th>\n      <td>14002.0</td>\n      <td>james</td>\n      <td>120.0</td>\n      <td>27.0</td>\n      <td>32.0</td>\n      <td>HSBC</td>\n      <td>c sharp</td>\n      <td>1200</td>\n      <td>179.0</td>\n    </tr>\n    <tr>\n      <th>2</th>\n      <td>14003.0</td>\n      <td>james</td>\n      <td>131.0</td>\n      <td>34.0</td>\n      <td>38.0</td>\n      <td>HSBC</td>\n      <td>python</td>\n      <td>1100</td>\n      <td>203.0</td>\n    </tr>\n    <tr>\n      <th>4</th>\n      <td>14005.0</td>\n      <td>John</td>\n      <td>120.0</td>\n      <td>48.0</td>\n      <td>50.0</td>\n      <td>HSBC</td>\n      <td>java</td>\n      <td>600</td>\n      <td>218.0</td>\n    </tr>\n    <tr>\n      <th>5</th>\n      <td>14006.0</td>\n      <td>Lucy</td>\n      <td>67.0</td>\n      <td>55.0</td>\n      <td>NaN</td>\n      <td>HSBC</td>\n      <td>python</td>\n      <td>567</td>\n      <td>NaN</td>\n    </tr>\n  </tbody>\n</table>\n</div>"
          },
          "metadata": {},
          "execution_count": 165
        }
      ],
      "source": [
        "resultsDf[resultsDf['Client']=='HSBC']"
      ]
    },
    {
      "cell_type": "code",
      "execution_count": 166,
      "metadata": {},
      "outputs": [],
      "source": [
        "resultsDf['salary']=resultsDf['salary']*1.1"
      ]
    },
    {
      "cell_type": "code",
      "execution_count": 167,
      "metadata": {},
      "outputs": [
        {
          "output_type": "execute_result",
          "data": {
            "text/plain": [
              "     regno   name  physics  chemistry  maths Client  Subject  salary  \\\n",
              "1  14002.0  james    120.0       27.0   32.0   HSBC  c sharp  1320.0   \n",
              "2  14003.0  james    131.0       34.0   38.0   HSBC   python  1210.0   \n",
              "4  14005.0   John    120.0       48.0   50.0   HSBC     java   660.0   \n",
              "5  14006.0   Lucy     67.0       55.0    NaN   HSBC   python   623.7   \n",
              "\n",
              "   totalMarks  \n",
              "1       179.0  \n",
              "2       203.0  \n",
              "4       218.0  \n",
              "5         NaN  "
            ],
            "text/html": "<div>\n<style scoped>\n    .dataframe tbody tr th:only-of-type {\n        vertical-align: middle;\n    }\n\n    .dataframe tbody tr th {\n        vertical-align: top;\n    }\n\n    .dataframe thead th {\n        text-align: right;\n    }\n</style>\n<table border=\"1\" class=\"dataframe\">\n  <thead>\n    <tr style=\"text-align: right;\">\n      <th></th>\n      <th>regno</th>\n      <th>name</th>\n      <th>physics</th>\n      <th>chemistry</th>\n      <th>maths</th>\n      <th>Client</th>\n      <th>Subject</th>\n      <th>salary</th>\n      <th>totalMarks</th>\n    </tr>\n  </thead>\n  <tbody>\n    <tr>\n      <th>1</th>\n      <td>14002.0</td>\n      <td>james</td>\n      <td>120.0</td>\n      <td>27.0</td>\n      <td>32.0</td>\n      <td>HSBC</td>\n      <td>c sharp</td>\n      <td>1320.0</td>\n      <td>179.0</td>\n    </tr>\n    <tr>\n      <th>2</th>\n      <td>14003.0</td>\n      <td>james</td>\n      <td>131.0</td>\n      <td>34.0</td>\n      <td>38.0</td>\n      <td>HSBC</td>\n      <td>python</td>\n      <td>1210.0</td>\n      <td>203.0</td>\n    </tr>\n    <tr>\n      <th>4</th>\n      <td>14005.0</td>\n      <td>John</td>\n      <td>120.0</td>\n      <td>48.0</td>\n      <td>50.0</td>\n      <td>HSBC</td>\n      <td>java</td>\n      <td>660.0</td>\n      <td>218.0</td>\n    </tr>\n    <tr>\n      <th>5</th>\n      <td>14006.0</td>\n      <td>Lucy</td>\n      <td>67.0</td>\n      <td>55.0</td>\n      <td>NaN</td>\n      <td>HSBC</td>\n      <td>python</td>\n      <td>623.7</td>\n      <td>NaN</td>\n    </tr>\n  </tbody>\n</table>\n</div>"
          },
          "metadata": {},
          "execution_count": 167
        }
      ],
      "source": [
        "resultsDf[resultsDf['Client']=='HSBC']"
      ]
    },
    {
      "cell_type": "code",
      "execution_count": 168,
      "metadata": {},
      "outputs": [
        {
          "output_type": "execute_result",
          "data": {
            "text/plain": [
              "1    james\n",
              "2    james\n",
              "4     John\n",
              "5     Lucy\n",
              "Name: name, dtype: object"
            ]
          },
          "metadata": {},
          "execution_count": 168
        }
      ],
      "source": [
        "resultsDf[resultsDf['Client']=='HSBC']['name']"
      ]
    },
    {
      "cell_type": "code",
      "execution_count": 169,
      "metadata": {},
      "outputs": [
        {
          "output_type": "execute_result",
          "data": {
            "text/plain": [
              "1    james\n",
              "2    james\n",
              "4     John\n",
              "Name: name, dtype: object"
            ]
          },
          "metadata": {},
          "execution_count": 169
        }
      ],
      "source": [
        "resultsDf[(resultsDf['Client']=='HSBC') & (resultsDf['totalMarks']/450 > 0.2)]['name']"
      ]
    },
    {
      "cell_type": "code",
      "execution_count": 170,
      "metadata": {},
      "outputs": [
        {
          "output_type": "execute_result",
          "data": {
            "text/plain": [
              "      regno         name  physics  chemistry  maths    Client  Subject  \\\n",
              "0   14001.0      shafeeq     90.0       20.0   26.0       IBM     java   \n",
              "1   14002.0        james    120.0       27.0   32.0      HSBC  c sharp   \n",
              "2   14003.0        james    131.0       34.0   38.0      HSBC   python   \n",
              "3   14004.0        Saeed     12.0        NaN   44.0       IBM   python   \n",
              "4   14005.0         John    120.0       48.0   50.0      HSBC     java   \n",
              "5   14006.0         Lucy     67.0       55.0    NaN      HSBC   python   \n",
              "6   14007.0          Tom     56.0       62.0   62.0       ONS   oracle   \n",
              "7   14008.0  Jason Bourn      NaN       69.0   68.0       NBS      sql   \n",
              "8   14009.0        Kajol     90.0       76.0   74.0  Barclays      php   \n",
              "9       NaN          NaN      NaN        NaN    NaN       NaN      NaN   \n",
              "10  14011.0        Peter     12.0       13.0   14.0       ONS      php   \n",
              "11  14012.0          Tom     56.0       62.0   62.0       ONS   oracle   \n",
              "12  14013.0          Ali     89.0       76.0   78.0       IBM     java   \n",
              "\n",
              "    salary  totalMarks  totalMarks2  \n",
              "0   1100.0       136.0        136.0  \n",
              "1   1320.0       179.0        179.0  \n",
              "2   1210.0       203.0        203.0  \n",
              "3    990.0         NaN         56.0  \n",
              "4    660.0       218.0        218.0  \n",
              "5    623.7         NaN        122.0  \n",
              "6   6245.8       180.0        180.0  \n",
              "7    963.6         NaN        137.0  \n",
              "8    990.0       240.0        240.0  \n",
              "9    988.9         NaN          0.0  \n",
              "10   842.6        39.0         39.0  \n",
              "11  6245.8       180.0        180.0  \n",
              "12  2530.0       243.0        243.0  "
            ],
            "text/html": "<div>\n<style scoped>\n    .dataframe tbody tr th:only-of-type {\n        vertical-align: middle;\n    }\n\n    .dataframe tbody tr th {\n        vertical-align: top;\n    }\n\n    .dataframe thead th {\n        text-align: right;\n    }\n</style>\n<table border=\"1\" class=\"dataframe\">\n  <thead>\n    <tr style=\"text-align: right;\">\n      <th></th>\n      <th>regno</th>\n      <th>name</th>\n      <th>physics</th>\n      <th>chemistry</th>\n      <th>maths</th>\n      <th>Client</th>\n      <th>Subject</th>\n      <th>salary</th>\n      <th>totalMarks</th>\n      <th>totalMarks2</th>\n    </tr>\n  </thead>\n  <tbody>\n    <tr>\n      <th>0</th>\n      <td>14001.0</td>\n      <td>shafeeq</td>\n      <td>90.0</td>\n      <td>20.0</td>\n      <td>26.0</td>\n      <td>IBM</td>\n      <td>java</td>\n      <td>1100.0</td>\n      <td>136.0</td>\n      <td>136.0</td>\n    </tr>\n    <tr>\n      <th>1</th>\n      <td>14002.0</td>\n      <td>james</td>\n      <td>120.0</td>\n      <td>27.0</td>\n      <td>32.0</td>\n      <td>HSBC</td>\n      <td>c sharp</td>\n      <td>1320.0</td>\n      <td>179.0</td>\n      <td>179.0</td>\n    </tr>\n    <tr>\n      <th>2</th>\n      <td>14003.0</td>\n      <td>james</td>\n      <td>131.0</td>\n      <td>34.0</td>\n      <td>38.0</td>\n      <td>HSBC</td>\n      <td>python</td>\n      <td>1210.0</td>\n      <td>203.0</td>\n      <td>203.0</td>\n    </tr>\n    <tr>\n      <th>3</th>\n      <td>14004.0</td>\n      <td>Saeed</td>\n      <td>12.0</td>\n      <td>NaN</td>\n      <td>44.0</td>\n      <td>IBM</td>\n      <td>python</td>\n      <td>990.0</td>\n      <td>NaN</td>\n      <td>56.0</td>\n    </tr>\n    <tr>\n      <th>4</th>\n      <td>14005.0</td>\n      <td>John</td>\n      <td>120.0</td>\n      <td>48.0</td>\n      <td>50.0</td>\n      <td>HSBC</td>\n      <td>java</td>\n      <td>660.0</td>\n      <td>218.0</td>\n      <td>218.0</td>\n    </tr>\n    <tr>\n      <th>5</th>\n      <td>14006.0</td>\n      <td>Lucy</td>\n      <td>67.0</td>\n      <td>55.0</td>\n      <td>NaN</td>\n      <td>HSBC</td>\n      <td>python</td>\n      <td>623.7</td>\n      <td>NaN</td>\n      <td>122.0</td>\n    </tr>\n    <tr>\n      <th>6</th>\n      <td>14007.0</td>\n      <td>Tom</td>\n      <td>56.0</td>\n      <td>62.0</td>\n      <td>62.0</td>\n      <td>ONS</td>\n      <td>oracle</td>\n      <td>6245.8</td>\n      <td>180.0</td>\n      <td>180.0</td>\n    </tr>\n    <tr>\n      <th>7</th>\n      <td>14008.0</td>\n      <td>Jason Bourn</td>\n      <td>NaN</td>\n      <td>69.0</td>\n      <td>68.0</td>\n      <td>NBS</td>\n      <td>sql</td>\n      <td>963.6</td>\n      <td>NaN</td>\n      <td>137.0</td>\n    </tr>\n    <tr>\n      <th>8</th>\n      <td>14009.0</td>\n      <td>Kajol</td>\n      <td>90.0</td>\n      <td>76.0</td>\n      <td>74.0</td>\n      <td>Barclays</td>\n      <td>php</td>\n      <td>990.0</td>\n      <td>240.0</td>\n      <td>240.0</td>\n    </tr>\n    <tr>\n      <th>9</th>\n      <td>NaN</td>\n      <td>NaN</td>\n      <td>NaN</td>\n      <td>NaN</td>\n      <td>NaN</td>\n      <td>NaN</td>\n      <td>NaN</td>\n      <td>988.9</td>\n      <td>NaN</td>\n      <td>0.0</td>\n    </tr>\n    <tr>\n      <th>10</th>\n      <td>14011.0</td>\n      <td>Peter</td>\n      <td>12.0</td>\n      <td>13.0</td>\n      <td>14.0</td>\n      <td>ONS</td>\n      <td>php</td>\n      <td>842.6</td>\n      <td>39.0</td>\n      <td>39.0</td>\n    </tr>\n    <tr>\n      <th>11</th>\n      <td>14012.0</td>\n      <td>Tom</td>\n      <td>56.0</td>\n      <td>62.0</td>\n      <td>62.0</td>\n      <td>ONS</td>\n      <td>oracle</td>\n      <td>6245.8</td>\n      <td>180.0</td>\n      <td>180.0</td>\n    </tr>\n    <tr>\n      <th>12</th>\n      <td>14013.0</td>\n      <td>Ali</td>\n      <td>89.0</td>\n      <td>76.0</td>\n      <td>78.0</td>\n      <td>IBM</td>\n      <td>java</td>\n      <td>2530.0</td>\n      <td>243.0</td>\n      <td>243.0</td>\n    </tr>\n  </tbody>\n</table>\n</div>"
          },
          "metadata": {},
          "execution_count": 170
        }
      ],
      "source": [
        "resultsDf['totalMarks2'] = resultsDf[['physics','chemistry','maths']].sum(axis=1)\n",
        "resultsDf"
      ]
    },
    {
      "cell_type": "code",
      "execution_count": 171,
      "metadata": {},
      "outputs": [
        {
          "output_type": "execute_result",
          "data": {
            "text/plain": [
              "      regno     name  physics  chemistry  maths    Client  Subject  salary  \\\n",
              "0   14001.0  shafeeq     90.0       20.0   26.0       IBM     java  1100.0   \n",
              "1   14002.0    james    120.0       27.0   32.0      HSBC  c sharp  1320.0   \n",
              "2   14003.0    james    131.0       34.0   38.0      HSBC   python  1210.0   \n",
              "4   14005.0     John    120.0       48.0   50.0      HSBC     java   660.0   \n",
              "6   14007.0      Tom     56.0       62.0   62.0       ONS   oracle  6245.8   \n",
              "8   14009.0    Kajol     90.0       76.0   74.0  Barclays      php   990.0   \n",
              "10  14011.0    Peter     12.0       13.0   14.0       ONS      php   842.6   \n",
              "11  14012.0      Tom     56.0       62.0   62.0       ONS   oracle  6245.8   \n",
              "12  14013.0      Ali     89.0       76.0   78.0       IBM     java  2530.0   \n",
              "\n",
              "    totalMarks  totalMarks2  \n",
              "0        136.0        136.0  \n",
              "1        179.0        179.0  \n",
              "2        203.0        203.0  \n",
              "4        218.0        218.0  \n",
              "6        180.0        180.0  \n",
              "8        240.0        240.0  \n",
              "10        39.0         39.0  \n",
              "11       180.0        180.0  \n",
              "12       243.0        243.0  "
            ],
            "text/html": "<div>\n<style scoped>\n    .dataframe tbody tr th:only-of-type {\n        vertical-align: middle;\n    }\n\n    .dataframe tbody tr th {\n        vertical-align: top;\n    }\n\n    .dataframe thead th {\n        text-align: right;\n    }\n</style>\n<table border=\"1\" class=\"dataframe\">\n  <thead>\n    <tr style=\"text-align: right;\">\n      <th></th>\n      <th>regno</th>\n      <th>name</th>\n      <th>physics</th>\n      <th>chemistry</th>\n      <th>maths</th>\n      <th>Client</th>\n      <th>Subject</th>\n      <th>salary</th>\n      <th>totalMarks</th>\n      <th>totalMarks2</th>\n    </tr>\n  </thead>\n  <tbody>\n    <tr>\n      <th>0</th>\n      <td>14001.0</td>\n      <td>shafeeq</td>\n      <td>90.0</td>\n      <td>20.0</td>\n      <td>26.0</td>\n      <td>IBM</td>\n      <td>java</td>\n      <td>1100.0</td>\n      <td>136.0</td>\n      <td>136.0</td>\n    </tr>\n    <tr>\n      <th>1</th>\n      <td>14002.0</td>\n      <td>james</td>\n      <td>120.0</td>\n      <td>27.0</td>\n      <td>32.0</td>\n      <td>HSBC</td>\n      <td>c sharp</td>\n      <td>1320.0</td>\n      <td>179.0</td>\n      <td>179.0</td>\n    </tr>\n    <tr>\n      <th>2</th>\n      <td>14003.0</td>\n      <td>james</td>\n      <td>131.0</td>\n      <td>34.0</td>\n      <td>38.0</td>\n      <td>HSBC</td>\n      <td>python</td>\n      <td>1210.0</td>\n      <td>203.0</td>\n      <td>203.0</td>\n    </tr>\n    <tr>\n      <th>4</th>\n      <td>14005.0</td>\n      <td>John</td>\n      <td>120.0</td>\n      <td>48.0</td>\n      <td>50.0</td>\n      <td>HSBC</td>\n      <td>java</td>\n      <td>660.0</td>\n      <td>218.0</td>\n      <td>218.0</td>\n    </tr>\n    <tr>\n      <th>6</th>\n      <td>14007.0</td>\n      <td>Tom</td>\n      <td>56.0</td>\n      <td>62.0</td>\n      <td>62.0</td>\n      <td>ONS</td>\n      <td>oracle</td>\n      <td>6245.8</td>\n      <td>180.0</td>\n      <td>180.0</td>\n    </tr>\n    <tr>\n      <th>8</th>\n      <td>14009.0</td>\n      <td>Kajol</td>\n      <td>90.0</td>\n      <td>76.0</td>\n      <td>74.0</td>\n      <td>Barclays</td>\n      <td>php</td>\n      <td>990.0</td>\n      <td>240.0</td>\n      <td>240.0</td>\n    </tr>\n    <tr>\n      <th>10</th>\n      <td>14011.0</td>\n      <td>Peter</td>\n      <td>12.0</td>\n      <td>13.0</td>\n      <td>14.0</td>\n      <td>ONS</td>\n      <td>php</td>\n      <td>842.6</td>\n      <td>39.0</td>\n      <td>39.0</td>\n    </tr>\n    <tr>\n      <th>11</th>\n      <td>14012.0</td>\n      <td>Tom</td>\n      <td>56.0</td>\n      <td>62.0</td>\n      <td>62.0</td>\n      <td>ONS</td>\n      <td>oracle</td>\n      <td>6245.8</td>\n      <td>180.0</td>\n      <td>180.0</td>\n    </tr>\n    <tr>\n      <th>12</th>\n      <td>14013.0</td>\n      <td>Ali</td>\n      <td>89.0</td>\n      <td>76.0</td>\n      <td>78.0</td>\n      <td>IBM</td>\n      <td>java</td>\n      <td>2530.0</td>\n      <td>243.0</td>\n      <td>243.0</td>\n    </tr>\n  </tbody>\n</table>\n</div>"
          },
          "metadata": {},
          "execution_count": 171
        }
      ],
      "source": [
        "resultsDf.dropna()"
      ]
    },
    {
      "cell_type": "code",
      "execution_count": 172,
      "metadata": {},
      "outputs": [
        {
          "output_type": "execute_result",
          "data": {
            "text/plain": [
              "      regno         name  physics  chemistry  maths    Client  Subject  \\\n",
              "0   14001.0      shafeeq     90.0       20.0   26.0       IBM     java   \n",
              "1   14002.0        james    120.0       27.0   32.0      HSBC  c sharp   \n",
              "2   14003.0        james    131.0       34.0   38.0      HSBC   python   \n",
              "3   14004.0        Saeed     12.0        NaN   44.0       IBM   python   \n",
              "4   14005.0         John    120.0       48.0   50.0      HSBC     java   \n",
              "6   14007.0          Tom     56.0       62.0   62.0       ONS   oracle   \n",
              "7   14008.0  Jason Bourn      NaN       69.0   68.0       NBS      sql   \n",
              "8   14009.0        Kajol     90.0       76.0   74.0  Barclays      php   \n",
              "10  14011.0        Peter     12.0       13.0   14.0       ONS      php   \n",
              "11  14012.0          Tom     56.0       62.0   62.0       ONS   oracle   \n",
              "12  14013.0          Ali     89.0       76.0   78.0       IBM     java   \n",
              "\n",
              "    salary  totalMarks  totalMarks2  \n",
              "0   1100.0       136.0        136.0  \n",
              "1   1320.0       179.0        179.0  \n",
              "2   1210.0       203.0        203.0  \n",
              "3    990.0         NaN         56.0  \n",
              "4    660.0       218.0        218.0  \n",
              "6   6245.8       180.0        180.0  \n",
              "7    963.6         NaN        137.0  \n",
              "8    990.0       240.0        240.0  \n",
              "10   842.6        39.0         39.0  \n",
              "11  6245.8       180.0        180.0  \n",
              "12  2530.0       243.0        243.0  "
            ],
            "text/html": "<div>\n<style scoped>\n    .dataframe tbody tr th:only-of-type {\n        vertical-align: middle;\n    }\n\n    .dataframe tbody tr th {\n        vertical-align: top;\n    }\n\n    .dataframe thead th {\n        text-align: right;\n    }\n</style>\n<table border=\"1\" class=\"dataframe\">\n  <thead>\n    <tr style=\"text-align: right;\">\n      <th></th>\n      <th>regno</th>\n      <th>name</th>\n      <th>physics</th>\n      <th>chemistry</th>\n      <th>maths</th>\n      <th>Client</th>\n      <th>Subject</th>\n      <th>salary</th>\n      <th>totalMarks</th>\n      <th>totalMarks2</th>\n    </tr>\n  </thead>\n  <tbody>\n    <tr>\n      <th>0</th>\n      <td>14001.0</td>\n      <td>shafeeq</td>\n      <td>90.0</td>\n      <td>20.0</td>\n      <td>26.0</td>\n      <td>IBM</td>\n      <td>java</td>\n      <td>1100.0</td>\n      <td>136.0</td>\n      <td>136.0</td>\n    </tr>\n    <tr>\n      <th>1</th>\n      <td>14002.0</td>\n      <td>james</td>\n      <td>120.0</td>\n      <td>27.0</td>\n      <td>32.0</td>\n      <td>HSBC</td>\n      <td>c sharp</td>\n      <td>1320.0</td>\n      <td>179.0</td>\n      <td>179.0</td>\n    </tr>\n    <tr>\n      <th>2</th>\n      <td>14003.0</td>\n      <td>james</td>\n      <td>131.0</td>\n      <td>34.0</td>\n      <td>38.0</td>\n      <td>HSBC</td>\n      <td>python</td>\n      <td>1210.0</td>\n      <td>203.0</td>\n      <td>203.0</td>\n    </tr>\n    <tr>\n      <th>3</th>\n      <td>14004.0</td>\n      <td>Saeed</td>\n      <td>12.0</td>\n      <td>NaN</td>\n      <td>44.0</td>\n      <td>IBM</td>\n      <td>python</td>\n      <td>990.0</td>\n      <td>NaN</td>\n      <td>56.0</td>\n    </tr>\n    <tr>\n      <th>4</th>\n      <td>14005.0</td>\n      <td>John</td>\n      <td>120.0</td>\n      <td>48.0</td>\n      <td>50.0</td>\n      <td>HSBC</td>\n      <td>java</td>\n      <td>660.0</td>\n      <td>218.0</td>\n      <td>218.0</td>\n    </tr>\n    <tr>\n      <th>6</th>\n      <td>14007.0</td>\n      <td>Tom</td>\n      <td>56.0</td>\n      <td>62.0</td>\n      <td>62.0</td>\n      <td>ONS</td>\n      <td>oracle</td>\n      <td>6245.8</td>\n      <td>180.0</td>\n      <td>180.0</td>\n    </tr>\n    <tr>\n      <th>7</th>\n      <td>14008.0</td>\n      <td>Jason Bourn</td>\n      <td>NaN</td>\n      <td>69.0</td>\n      <td>68.0</td>\n      <td>NBS</td>\n      <td>sql</td>\n      <td>963.6</td>\n      <td>NaN</td>\n      <td>137.0</td>\n    </tr>\n    <tr>\n      <th>8</th>\n      <td>14009.0</td>\n      <td>Kajol</td>\n      <td>90.0</td>\n      <td>76.0</td>\n      <td>74.0</td>\n      <td>Barclays</td>\n      <td>php</td>\n      <td>990.0</td>\n      <td>240.0</td>\n      <td>240.0</td>\n    </tr>\n    <tr>\n      <th>10</th>\n      <td>14011.0</td>\n      <td>Peter</td>\n      <td>12.0</td>\n      <td>13.0</td>\n      <td>14.0</td>\n      <td>ONS</td>\n      <td>php</td>\n      <td>842.6</td>\n      <td>39.0</td>\n      <td>39.0</td>\n    </tr>\n    <tr>\n      <th>11</th>\n      <td>14012.0</td>\n      <td>Tom</td>\n      <td>56.0</td>\n      <td>62.0</td>\n      <td>62.0</td>\n      <td>ONS</td>\n      <td>oracle</td>\n      <td>6245.8</td>\n      <td>180.0</td>\n      <td>180.0</td>\n    </tr>\n    <tr>\n      <th>12</th>\n      <td>14013.0</td>\n      <td>Ali</td>\n      <td>89.0</td>\n      <td>76.0</td>\n      <td>78.0</td>\n      <td>IBM</td>\n      <td>java</td>\n      <td>2530.0</td>\n      <td>243.0</td>\n      <td>243.0</td>\n    </tr>\n  </tbody>\n</table>\n</div>"
          },
          "metadata": {},
          "execution_count": 172
        }
      ],
      "source": [
        "resultsDf.dropna(subset=['maths'])"
      ]
    },
    {
      "cell_type": "code",
      "execution_count": 173,
      "metadata": {},
      "outputs": [
        {
          "output_type": "execute_result",
          "data": {
            "text/plain": [
              "      regno         name  physics  chemistry  maths    Client  Subject  \\\n",
              "0   14001.0      shafeeq     90.0       20.0   26.0       IBM     java   \n",
              "1   14002.0        james    120.0       27.0   32.0      HSBC  c sharp   \n",
              "2   14003.0        james    131.0       34.0   38.0      HSBC   python   \n",
              "3   14004.0        Saeed     12.0        0.0   44.0       IBM   python   \n",
              "4   14005.0         John    120.0       48.0   50.0      HSBC     java   \n",
              "5   14006.0         Lucy     67.0       55.0    0.0      HSBC   python   \n",
              "6   14007.0          Tom     56.0       62.0   62.0       ONS   oracle   \n",
              "7   14008.0  Jason Bourn      0.0       69.0   68.0       NBS      sql   \n",
              "8   14009.0        Kajol     90.0       76.0   74.0  Barclays      php   \n",
              "9       0.0            0      0.0        0.0    0.0         0        0   \n",
              "10  14011.0        Peter     12.0       13.0   14.0       ONS      php   \n",
              "11  14012.0          Tom     56.0       62.0   62.0       ONS   oracle   \n",
              "12  14013.0          Ali     89.0       76.0   78.0       IBM     java   \n",
              "\n",
              "    salary  totalMarks  totalMarks2  \n",
              "0   1100.0       136.0        136.0  \n",
              "1   1320.0       179.0        179.0  \n",
              "2   1210.0       203.0        203.0  \n",
              "3    990.0         0.0         56.0  \n",
              "4    660.0       218.0        218.0  \n",
              "5    623.7         0.0        122.0  \n",
              "6   6245.8       180.0        180.0  \n",
              "7    963.6         0.0        137.0  \n",
              "8    990.0       240.0        240.0  \n",
              "9    988.9         0.0          0.0  \n",
              "10   842.6        39.0         39.0  \n",
              "11  6245.8       180.0        180.0  \n",
              "12  2530.0       243.0        243.0  "
            ],
            "text/html": "<div>\n<style scoped>\n    .dataframe tbody tr th:only-of-type {\n        vertical-align: middle;\n    }\n\n    .dataframe tbody tr th {\n        vertical-align: top;\n    }\n\n    .dataframe thead th {\n        text-align: right;\n    }\n</style>\n<table border=\"1\" class=\"dataframe\">\n  <thead>\n    <tr style=\"text-align: right;\">\n      <th></th>\n      <th>regno</th>\n      <th>name</th>\n      <th>physics</th>\n      <th>chemistry</th>\n      <th>maths</th>\n      <th>Client</th>\n      <th>Subject</th>\n      <th>salary</th>\n      <th>totalMarks</th>\n      <th>totalMarks2</th>\n    </tr>\n  </thead>\n  <tbody>\n    <tr>\n      <th>0</th>\n      <td>14001.0</td>\n      <td>shafeeq</td>\n      <td>90.0</td>\n      <td>20.0</td>\n      <td>26.0</td>\n      <td>IBM</td>\n      <td>java</td>\n      <td>1100.0</td>\n      <td>136.0</td>\n      <td>136.0</td>\n    </tr>\n    <tr>\n      <th>1</th>\n      <td>14002.0</td>\n      <td>james</td>\n      <td>120.0</td>\n      <td>27.0</td>\n      <td>32.0</td>\n      <td>HSBC</td>\n      <td>c sharp</td>\n      <td>1320.0</td>\n      <td>179.0</td>\n      <td>179.0</td>\n    </tr>\n    <tr>\n      <th>2</th>\n      <td>14003.0</td>\n      <td>james</td>\n      <td>131.0</td>\n      <td>34.0</td>\n      <td>38.0</td>\n      <td>HSBC</td>\n      <td>python</td>\n      <td>1210.0</td>\n      <td>203.0</td>\n      <td>203.0</td>\n    </tr>\n    <tr>\n      <th>3</th>\n      <td>14004.0</td>\n      <td>Saeed</td>\n      <td>12.0</td>\n      <td>0.0</td>\n      <td>44.0</td>\n      <td>IBM</td>\n      <td>python</td>\n      <td>990.0</td>\n      <td>0.0</td>\n      <td>56.0</td>\n    </tr>\n    <tr>\n      <th>4</th>\n      <td>14005.0</td>\n      <td>John</td>\n      <td>120.0</td>\n      <td>48.0</td>\n      <td>50.0</td>\n      <td>HSBC</td>\n      <td>java</td>\n      <td>660.0</td>\n      <td>218.0</td>\n      <td>218.0</td>\n    </tr>\n    <tr>\n      <th>5</th>\n      <td>14006.0</td>\n      <td>Lucy</td>\n      <td>67.0</td>\n      <td>55.0</td>\n      <td>0.0</td>\n      <td>HSBC</td>\n      <td>python</td>\n      <td>623.7</td>\n      <td>0.0</td>\n      <td>122.0</td>\n    </tr>\n    <tr>\n      <th>6</th>\n      <td>14007.0</td>\n      <td>Tom</td>\n      <td>56.0</td>\n      <td>62.0</td>\n      <td>62.0</td>\n      <td>ONS</td>\n      <td>oracle</td>\n      <td>6245.8</td>\n      <td>180.0</td>\n      <td>180.0</td>\n    </tr>\n    <tr>\n      <th>7</th>\n      <td>14008.0</td>\n      <td>Jason Bourn</td>\n      <td>0.0</td>\n      <td>69.0</td>\n      <td>68.0</td>\n      <td>NBS</td>\n      <td>sql</td>\n      <td>963.6</td>\n      <td>0.0</td>\n      <td>137.0</td>\n    </tr>\n    <tr>\n      <th>8</th>\n      <td>14009.0</td>\n      <td>Kajol</td>\n      <td>90.0</td>\n      <td>76.0</td>\n      <td>74.0</td>\n      <td>Barclays</td>\n      <td>php</td>\n      <td>990.0</td>\n      <td>240.0</td>\n      <td>240.0</td>\n    </tr>\n    <tr>\n      <th>9</th>\n      <td>0.0</td>\n      <td>0</td>\n      <td>0.0</td>\n      <td>0.0</td>\n      <td>0.0</td>\n      <td>0</td>\n      <td>0</td>\n      <td>988.9</td>\n      <td>0.0</td>\n      <td>0.0</td>\n    </tr>\n    <tr>\n      <th>10</th>\n      <td>14011.0</td>\n      <td>Peter</td>\n      <td>12.0</td>\n      <td>13.0</td>\n      <td>14.0</td>\n      <td>ONS</td>\n      <td>php</td>\n      <td>842.6</td>\n      <td>39.0</td>\n      <td>39.0</td>\n    </tr>\n    <tr>\n      <th>11</th>\n      <td>14012.0</td>\n      <td>Tom</td>\n      <td>56.0</td>\n      <td>62.0</td>\n      <td>62.0</td>\n      <td>ONS</td>\n      <td>oracle</td>\n      <td>6245.8</td>\n      <td>180.0</td>\n      <td>180.0</td>\n    </tr>\n    <tr>\n      <th>12</th>\n      <td>14013.0</td>\n      <td>Ali</td>\n      <td>89.0</td>\n      <td>76.0</td>\n      <td>78.0</td>\n      <td>IBM</td>\n      <td>java</td>\n      <td>2530.0</td>\n      <td>243.0</td>\n      <td>243.0</td>\n    </tr>\n  </tbody>\n</table>\n</div>"
          },
          "metadata": {},
          "execution_count": 173
        }
      ],
      "source": [
        "resultsDf.fillna(0)"
      ]
    },
    {
      "cell_type": "code",
      "execution_count": 176,
      "metadata": {},
      "outputs": [
        {
          "output_type": "execute_result",
          "data": {
            "text/plain": [
              "      regno         name  physics  chemistry  maths    Client  Subject  \\\n",
              "12  14013.0          Ali     89.0       76.0   78.0       IBM     java   \n",
              "7   14008.0  Jason Bourn      NaN       69.0   68.0       NBS      sql   \n",
              "4   14005.0         John    120.0       48.0   50.0      HSBC     java   \n",
              "8   14009.0        Kajol     90.0       76.0   74.0  Barclays      php   \n",
              "5   14006.0         Lucy     67.0       55.0    NaN      HSBC   python   \n",
              "10  14011.0        Peter     12.0       13.0   14.0       ONS      php   \n",
              "3   14004.0        Saeed     12.0        NaN   44.0       IBM   python   \n",
              "11  14012.0          Tom     56.0       62.0   62.0       ONS   oracle   \n",
              "6   14007.0          Tom     56.0       62.0   62.0       ONS   oracle   \n",
              "2   14003.0        james    131.0       34.0   38.0      HSBC   python   \n",
              "1   14002.0        james    120.0       27.0   32.0      HSBC  c sharp   \n",
              "0   14001.0      shafeeq     90.0       20.0   26.0       IBM     java   \n",
              "9       NaN          NaN      NaN        NaN    NaN       NaN      NaN   \n",
              "\n",
              "    salary  totalMarks  totalMarks2  \n",
              "12  2530.0       243.0        243.0  \n",
              "7    963.6         NaN        137.0  \n",
              "4    660.0       218.0        218.0  \n",
              "8    990.0       240.0        240.0  \n",
              "5    623.7         NaN        122.0  \n",
              "10   842.6        39.0         39.0  \n",
              "3    990.0         NaN         56.0  \n",
              "11  6245.8       180.0        180.0  \n",
              "6   6245.8       180.0        180.0  \n",
              "2   1210.0       203.0        203.0  \n",
              "1   1320.0       179.0        179.0  \n",
              "0   1100.0       136.0        136.0  \n",
              "9    988.9         NaN          0.0  "
            ],
            "text/html": "<div>\n<style scoped>\n    .dataframe tbody tr th:only-of-type {\n        vertical-align: middle;\n    }\n\n    .dataframe tbody tr th {\n        vertical-align: top;\n    }\n\n    .dataframe thead th {\n        text-align: right;\n    }\n</style>\n<table border=\"1\" class=\"dataframe\">\n  <thead>\n    <tr style=\"text-align: right;\">\n      <th></th>\n      <th>regno</th>\n      <th>name</th>\n      <th>physics</th>\n      <th>chemistry</th>\n      <th>maths</th>\n      <th>Client</th>\n      <th>Subject</th>\n      <th>salary</th>\n      <th>totalMarks</th>\n      <th>totalMarks2</th>\n    </tr>\n  </thead>\n  <tbody>\n    <tr>\n      <th>12</th>\n      <td>14013.0</td>\n      <td>Ali</td>\n      <td>89.0</td>\n      <td>76.0</td>\n      <td>78.0</td>\n      <td>IBM</td>\n      <td>java</td>\n      <td>2530.0</td>\n      <td>243.0</td>\n      <td>243.0</td>\n    </tr>\n    <tr>\n      <th>7</th>\n      <td>14008.0</td>\n      <td>Jason Bourn</td>\n      <td>NaN</td>\n      <td>69.0</td>\n      <td>68.0</td>\n      <td>NBS</td>\n      <td>sql</td>\n      <td>963.6</td>\n      <td>NaN</td>\n      <td>137.0</td>\n    </tr>\n    <tr>\n      <th>4</th>\n      <td>14005.0</td>\n      <td>John</td>\n      <td>120.0</td>\n      <td>48.0</td>\n      <td>50.0</td>\n      <td>HSBC</td>\n      <td>java</td>\n      <td>660.0</td>\n      <td>218.0</td>\n      <td>218.0</td>\n    </tr>\n    <tr>\n      <th>8</th>\n      <td>14009.0</td>\n      <td>Kajol</td>\n      <td>90.0</td>\n      <td>76.0</td>\n      <td>74.0</td>\n      <td>Barclays</td>\n      <td>php</td>\n      <td>990.0</td>\n      <td>240.0</td>\n      <td>240.0</td>\n    </tr>\n    <tr>\n      <th>5</th>\n      <td>14006.0</td>\n      <td>Lucy</td>\n      <td>67.0</td>\n      <td>55.0</td>\n      <td>NaN</td>\n      <td>HSBC</td>\n      <td>python</td>\n      <td>623.7</td>\n      <td>NaN</td>\n      <td>122.0</td>\n    </tr>\n    <tr>\n      <th>10</th>\n      <td>14011.0</td>\n      <td>Peter</td>\n      <td>12.0</td>\n      <td>13.0</td>\n      <td>14.0</td>\n      <td>ONS</td>\n      <td>php</td>\n      <td>842.6</td>\n      <td>39.0</td>\n      <td>39.0</td>\n    </tr>\n    <tr>\n      <th>3</th>\n      <td>14004.0</td>\n      <td>Saeed</td>\n      <td>12.0</td>\n      <td>NaN</td>\n      <td>44.0</td>\n      <td>IBM</td>\n      <td>python</td>\n      <td>990.0</td>\n      <td>NaN</td>\n      <td>56.0</td>\n    </tr>\n    <tr>\n      <th>11</th>\n      <td>14012.0</td>\n      <td>Tom</td>\n      <td>56.0</td>\n      <td>62.0</td>\n      <td>62.0</td>\n      <td>ONS</td>\n      <td>oracle</td>\n      <td>6245.8</td>\n      <td>180.0</td>\n      <td>180.0</td>\n    </tr>\n    <tr>\n      <th>6</th>\n      <td>14007.0</td>\n      <td>Tom</td>\n      <td>56.0</td>\n      <td>62.0</td>\n      <td>62.0</td>\n      <td>ONS</td>\n      <td>oracle</td>\n      <td>6245.8</td>\n      <td>180.0</td>\n      <td>180.0</td>\n    </tr>\n    <tr>\n      <th>2</th>\n      <td>14003.0</td>\n      <td>james</td>\n      <td>131.0</td>\n      <td>34.0</td>\n      <td>38.0</td>\n      <td>HSBC</td>\n      <td>python</td>\n      <td>1210.0</td>\n      <td>203.0</td>\n      <td>203.0</td>\n    </tr>\n    <tr>\n      <th>1</th>\n      <td>14002.0</td>\n      <td>james</td>\n      <td>120.0</td>\n      <td>27.0</td>\n      <td>32.0</td>\n      <td>HSBC</td>\n      <td>c sharp</td>\n      <td>1320.0</td>\n      <td>179.0</td>\n      <td>179.0</td>\n    </tr>\n    <tr>\n      <th>0</th>\n      <td>14001.0</td>\n      <td>shafeeq</td>\n      <td>90.0</td>\n      <td>20.0</td>\n      <td>26.0</td>\n      <td>IBM</td>\n      <td>java</td>\n      <td>1100.0</td>\n      <td>136.0</td>\n      <td>136.0</td>\n    </tr>\n    <tr>\n      <th>9</th>\n      <td>NaN</td>\n      <td>NaN</td>\n      <td>NaN</td>\n      <td>NaN</td>\n      <td>NaN</td>\n      <td>NaN</td>\n      <td>NaN</td>\n      <td>988.9</td>\n      <td>NaN</td>\n      <td>0.0</td>\n    </tr>\n  </tbody>\n</table>\n</div>"
          },
          "metadata": {},
          "execution_count": 176
        }
      ],
      "source": [
        "resultsDf.sort_values([\"name\",\"physics\",\"regno\"],ascending=[True,False,False])"
      ]
    },
    {
      "cell_type": "code",
      "execution_count": 181,
      "metadata": {},
      "outputs": [
        {
          "output_type": "execute_result",
          "data": {
            "text/plain": [
              "      regno     name  physics  chemistry  maths Client Subject  salary  \\\n",
              "0   14001.0  shafeeq     90.0       20.0   26.0    IBM    java  1100.0   \n",
              "12  14013.0      Ali     89.0       76.0   78.0    IBM    java  2530.0   \n",
              "\n",
              "    totalMarks  totalMarks2  \n",
              "0        136.0        136.0  \n",
              "12       243.0        243.0  "
            ],
            "text/html": "<div>\n<style scoped>\n    .dataframe tbody tr th:only-of-type {\n        vertical-align: middle;\n    }\n\n    .dataframe tbody tr th {\n        vertical-align: top;\n    }\n\n    .dataframe thead th {\n        text-align: right;\n    }\n</style>\n<table border=\"1\" class=\"dataframe\">\n  <thead>\n    <tr style=\"text-align: right;\">\n      <th></th>\n      <th>regno</th>\n      <th>name</th>\n      <th>physics</th>\n      <th>chemistry</th>\n      <th>maths</th>\n      <th>Client</th>\n      <th>Subject</th>\n      <th>salary</th>\n      <th>totalMarks</th>\n      <th>totalMarks2</th>\n    </tr>\n  </thead>\n  <tbody>\n    <tr>\n      <th>0</th>\n      <td>14001.0</td>\n      <td>shafeeq</td>\n      <td>90.0</td>\n      <td>20.0</td>\n      <td>26.0</td>\n      <td>IBM</td>\n      <td>java</td>\n      <td>1100.0</td>\n      <td>136.0</td>\n      <td>136.0</td>\n    </tr>\n    <tr>\n      <th>12</th>\n      <td>14013.0</td>\n      <td>Ali</td>\n      <td>89.0</td>\n      <td>76.0</td>\n      <td>78.0</td>\n      <td>IBM</td>\n      <td>java</td>\n      <td>2530.0</td>\n      <td>243.0</td>\n      <td>243.0</td>\n    </tr>\n  </tbody>\n</table>\n</div>"
          },
          "metadata": {},
          "execution_count": 181
        }
      ],
      "source": [
        "resultsDf[(resultsDf['Client'].isin(['ONS','IBM'])) & (resultsDf['Subject']=='java')]"
      ]
    },
    {
      "cell_type": "code",
      "execution_count": 183,
      "metadata": {},
      "outputs": [
        {
          "output_type": "execute_result",
          "data": {
            "text/plain": [
              "      regno         name  physics  chemistry  maths Client  Subject  salary  \\\n",
              "1   14002.0        james    120.0       27.0   32.0   HSBC  c sharp  1320.0   \n",
              "2   14003.0        james    131.0       34.0   38.0   HSBC   python  1210.0   \n",
              "3   14004.0        Saeed     12.0        NaN   44.0    IBM   python   990.0   \n",
              "4   14005.0         John    120.0       48.0   50.0   HSBC     java   660.0   \n",
              "5   14006.0         Lucy     67.0       55.0    NaN   HSBC   python   623.7   \n",
              "6   14007.0          Tom     56.0       62.0   62.0    ONS   oracle  6245.8   \n",
              "7   14008.0  Jason Bourn      NaN       69.0   68.0    NBS      sql   963.6   \n",
              "9       NaN          NaN      NaN        NaN    NaN    NaN      NaN   988.9   \n",
              "10  14011.0        Peter     12.0       13.0   14.0    ONS      php   842.6   \n",
              "11  14012.0          Tom     56.0       62.0   62.0    ONS   oracle  6245.8   \n",
              "\n",
              "    totalMarks  totalMarks2  \n",
              "1        179.0        179.0  \n",
              "2        203.0        203.0  \n",
              "3          NaN         56.0  \n",
              "4        218.0        218.0  \n",
              "5          NaN        122.0  \n",
              "6        180.0        180.0  \n",
              "7          NaN        137.0  \n",
              "9          NaN          0.0  \n",
              "10        39.0         39.0  \n",
              "11       180.0        180.0  "
            ],
            "text/html": "<div>\n<style scoped>\n    .dataframe tbody tr th:only-of-type {\n        vertical-align: middle;\n    }\n\n    .dataframe tbody tr th {\n        vertical-align: top;\n    }\n\n    .dataframe thead th {\n        text-align: right;\n    }\n</style>\n<table border=\"1\" class=\"dataframe\">\n  <thead>\n    <tr style=\"text-align: right;\">\n      <th></th>\n      <th>regno</th>\n      <th>name</th>\n      <th>physics</th>\n      <th>chemistry</th>\n      <th>maths</th>\n      <th>Client</th>\n      <th>Subject</th>\n      <th>salary</th>\n      <th>totalMarks</th>\n      <th>totalMarks2</th>\n    </tr>\n  </thead>\n  <tbody>\n    <tr>\n      <th>1</th>\n      <td>14002.0</td>\n      <td>james</td>\n      <td>120.0</td>\n      <td>27.0</td>\n      <td>32.0</td>\n      <td>HSBC</td>\n      <td>c sharp</td>\n      <td>1320.0</td>\n      <td>179.0</td>\n      <td>179.0</td>\n    </tr>\n    <tr>\n      <th>2</th>\n      <td>14003.0</td>\n      <td>james</td>\n      <td>131.0</td>\n      <td>34.0</td>\n      <td>38.0</td>\n      <td>HSBC</td>\n      <td>python</td>\n      <td>1210.0</td>\n      <td>203.0</td>\n      <td>203.0</td>\n    </tr>\n    <tr>\n      <th>3</th>\n      <td>14004.0</td>\n      <td>Saeed</td>\n      <td>12.0</td>\n      <td>NaN</td>\n      <td>44.0</td>\n      <td>IBM</td>\n      <td>python</td>\n      <td>990.0</td>\n      <td>NaN</td>\n      <td>56.0</td>\n    </tr>\n    <tr>\n      <th>4</th>\n      <td>14005.0</td>\n      <td>John</td>\n      <td>120.0</td>\n      <td>48.0</td>\n      <td>50.0</td>\n      <td>HSBC</td>\n      <td>java</td>\n      <td>660.0</td>\n      <td>218.0</td>\n      <td>218.0</td>\n    </tr>\n    <tr>\n      <th>5</th>\n      <td>14006.0</td>\n      <td>Lucy</td>\n      <td>67.0</td>\n      <td>55.0</td>\n      <td>NaN</td>\n      <td>HSBC</td>\n      <td>python</td>\n      <td>623.7</td>\n      <td>NaN</td>\n      <td>122.0</td>\n    </tr>\n    <tr>\n      <th>6</th>\n      <td>14007.0</td>\n      <td>Tom</td>\n      <td>56.0</td>\n      <td>62.0</td>\n      <td>62.0</td>\n      <td>ONS</td>\n      <td>oracle</td>\n      <td>6245.8</td>\n      <td>180.0</td>\n      <td>180.0</td>\n    </tr>\n    <tr>\n      <th>7</th>\n      <td>14008.0</td>\n      <td>Jason Bourn</td>\n      <td>NaN</td>\n      <td>69.0</td>\n      <td>68.0</td>\n      <td>NBS</td>\n      <td>sql</td>\n      <td>963.6</td>\n      <td>NaN</td>\n      <td>137.0</td>\n    </tr>\n    <tr>\n      <th>9</th>\n      <td>NaN</td>\n      <td>NaN</td>\n      <td>NaN</td>\n      <td>NaN</td>\n      <td>NaN</td>\n      <td>NaN</td>\n      <td>NaN</td>\n      <td>988.9</td>\n      <td>NaN</td>\n      <td>0.0</td>\n    </tr>\n    <tr>\n      <th>10</th>\n      <td>14011.0</td>\n      <td>Peter</td>\n      <td>12.0</td>\n      <td>13.0</td>\n      <td>14.0</td>\n      <td>ONS</td>\n      <td>php</td>\n      <td>842.6</td>\n      <td>39.0</td>\n      <td>39.0</td>\n    </tr>\n    <tr>\n      <th>11</th>\n      <td>14012.0</td>\n      <td>Tom</td>\n      <td>56.0</td>\n      <td>62.0</td>\n      <td>62.0</td>\n      <td>ONS</td>\n      <td>oracle</td>\n      <td>6245.8</td>\n      <td>180.0</td>\n      <td>180.0</td>\n    </tr>\n  </tbody>\n</table>\n</div>"
          },
          "metadata": {},
          "execution_count": 183
        }
      ],
      "source": [
        "resultsDf[~resultsDf['physics'].between(80,100)]"
      ]
    },
    {
      "cell_type": "code",
      "execution_count": 190,
      "metadata": {},
      "outputs": [],
      "source": [
        "resultsDf.dropna(inplace=True)"
      ]
    },
    {
      "cell_type": "code",
      "execution_count": 194,
      "metadata": {},
      "outputs": [
        {
          "output_type": "error",
          "ename": "KeyError",
          "evalue": "\"None of ['regno'] are in the columns\"",
          "traceback": [
            "\u001b[0;31m---------------------------------------------------------------------------\u001b[0m",
            "\u001b[0;31mKeyError\u001b[0m                                  Traceback (most recent call last)",
            "\u001b[0;32m<ipython-input-194-cd6c9373252c>\u001b[0m in \u001b[0;36m<module>\u001b[0;34m\u001b[0m\n\u001b[0;32m----> 1\u001b[0;31m \u001b[0mresultsDf\u001b[0m\u001b[0;34m.\u001b[0m\u001b[0mset_index\u001b[0m\u001b[0;34m(\u001b[0m\u001b[0mkeys\u001b[0m\u001b[0;34m=\u001b[0m\u001b[0;34m'regno'\u001b[0m\u001b[0;34m,\u001b[0m\u001b[0minplace\u001b[0m\u001b[0;34m=\u001b[0m\u001b[0;32mTrue\u001b[0m\u001b[0;34m)\u001b[0m\u001b[0;34m\u001b[0m\u001b[0;34m\u001b[0m\u001b[0m\n\u001b[0m",
            "\u001b[0;32m~/.local/lib/python3.9/site-packages/pandas/core/frame.py\u001b[0m in \u001b[0;36mset_index\u001b[0;34m(self, keys, drop, append, inplace, verify_integrity)\u001b[0m\n\u001b[1;32m   4553\u001b[0m \u001b[0;34m\u001b[0m\u001b[0m\n\u001b[1;32m   4554\u001b[0m         \u001b[0;32mif\u001b[0m \u001b[0mmissing\u001b[0m\u001b[0;34m:\u001b[0m\u001b[0;34m\u001b[0m\u001b[0;34m\u001b[0m\u001b[0m\n\u001b[0;32m-> 4555\u001b[0;31m             \u001b[0;32mraise\u001b[0m \u001b[0mKeyError\u001b[0m\u001b[0;34m(\u001b[0m\u001b[0;34mf\"None of {missing} are in the columns\"\u001b[0m\u001b[0;34m)\u001b[0m\u001b[0;34m\u001b[0m\u001b[0;34m\u001b[0m\u001b[0m\n\u001b[0m\u001b[1;32m   4556\u001b[0m \u001b[0;34m\u001b[0m\u001b[0m\n\u001b[1;32m   4557\u001b[0m         \u001b[0;32mif\u001b[0m \u001b[0minplace\u001b[0m\u001b[0;34m:\u001b[0m\u001b[0;34m\u001b[0m\u001b[0;34m\u001b[0m\u001b[0m\n",
            "\u001b[0;31mKeyError\u001b[0m: \"None of ['regno'] are in the columns\""
          ]
        }
      ],
      "source": [
        "resultsDf.set_index(keys='regno',inplace=True)"
      ]
    },
    {
      "cell_type": "code",
      "execution_count": 195,
      "metadata": {},
      "outputs": [
        {
          "output_type": "execute_result",
          "data": {
            "text/plain": [
              "            name  physics  chemistry  maths    Client  Subject  salary  \\\n",
              "regno                                                                    \n",
              "14001.0  shafeeq     90.0       20.0   26.0       IBM     java  1100.0   \n",
              "14002.0    james    120.0       27.0   32.0      HSBC  c sharp  1320.0   \n",
              "14003.0    james    131.0       34.0   38.0      HSBC   python  1210.0   \n",
              "14005.0     John    120.0       48.0   50.0      HSBC     java   660.0   \n",
              "14007.0      Tom     56.0       62.0   62.0       ONS   oracle  6245.8   \n",
              "14009.0    Kajol     90.0       76.0   74.0  Barclays      php   990.0   \n",
              "14011.0    Peter     12.0       13.0   14.0       ONS      php   842.6   \n",
              "14012.0      Tom     56.0       62.0   62.0       ONS   oracle  6245.8   \n",
              "14013.0      Ali     89.0       76.0   78.0       IBM     java  2530.0   \n",
              "\n",
              "         totalMarks  totalMarks2  \n",
              "regno                             \n",
              "14001.0       136.0        136.0  \n",
              "14002.0       179.0        179.0  \n",
              "14003.0       203.0        203.0  \n",
              "14005.0       218.0        218.0  \n",
              "14007.0       180.0        180.0  \n",
              "14009.0       240.0        240.0  \n",
              "14011.0        39.0         39.0  \n",
              "14012.0       180.0        180.0  \n",
              "14013.0       243.0        243.0  "
            ],
            "text/html": "<div>\n<style scoped>\n    .dataframe tbody tr th:only-of-type {\n        vertical-align: middle;\n    }\n\n    .dataframe tbody tr th {\n        vertical-align: top;\n    }\n\n    .dataframe thead th {\n        text-align: right;\n    }\n</style>\n<table border=\"1\" class=\"dataframe\">\n  <thead>\n    <tr style=\"text-align: right;\">\n      <th></th>\n      <th>name</th>\n      <th>physics</th>\n      <th>chemistry</th>\n      <th>maths</th>\n      <th>Client</th>\n      <th>Subject</th>\n      <th>salary</th>\n      <th>totalMarks</th>\n      <th>totalMarks2</th>\n    </tr>\n    <tr>\n      <th>regno</th>\n      <th></th>\n      <th></th>\n      <th></th>\n      <th></th>\n      <th></th>\n      <th></th>\n      <th></th>\n      <th></th>\n      <th></th>\n    </tr>\n  </thead>\n  <tbody>\n    <tr>\n      <th>14001.0</th>\n      <td>shafeeq</td>\n      <td>90.0</td>\n      <td>20.0</td>\n      <td>26.0</td>\n      <td>IBM</td>\n      <td>java</td>\n      <td>1100.0</td>\n      <td>136.0</td>\n      <td>136.0</td>\n    </tr>\n    <tr>\n      <th>14002.0</th>\n      <td>james</td>\n      <td>120.0</td>\n      <td>27.0</td>\n      <td>32.0</td>\n      <td>HSBC</td>\n      <td>c sharp</td>\n      <td>1320.0</td>\n      <td>179.0</td>\n      <td>179.0</td>\n    </tr>\n    <tr>\n      <th>14003.0</th>\n      <td>james</td>\n      <td>131.0</td>\n      <td>34.0</td>\n      <td>38.0</td>\n      <td>HSBC</td>\n      <td>python</td>\n      <td>1210.0</td>\n      <td>203.0</td>\n      <td>203.0</td>\n    </tr>\n    <tr>\n      <th>14005.0</th>\n      <td>John</td>\n      <td>120.0</td>\n      <td>48.0</td>\n      <td>50.0</td>\n      <td>HSBC</td>\n      <td>java</td>\n      <td>660.0</td>\n      <td>218.0</td>\n      <td>218.0</td>\n    </tr>\n    <tr>\n      <th>14007.0</th>\n      <td>Tom</td>\n      <td>56.0</td>\n      <td>62.0</td>\n      <td>62.0</td>\n      <td>ONS</td>\n      <td>oracle</td>\n      <td>6245.8</td>\n      <td>180.0</td>\n      <td>180.0</td>\n    </tr>\n    <tr>\n      <th>14009.0</th>\n      <td>Kajol</td>\n      <td>90.0</td>\n      <td>76.0</td>\n      <td>74.0</td>\n      <td>Barclays</td>\n      <td>php</td>\n      <td>990.0</td>\n      <td>240.0</td>\n      <td>240.0</td>\n    </tr>\n    <tr>\n      <th>14011.0</th>\n      <td>Peter</td>\n      <td>12.0</td>\n      <td>13.0</td>\n      <td>14.0</td>\n      <td>ONS</td>\n      <td>php</td>\n      <td>842.6</td>\n      <td>39.0</td>\n      <td>39.0</td>\n    </tr>\n    <tr>\n      <th>14012.0</th>\n      <td>Tom</td>\n      <td>56.0</td>\n      <td>62.0</td>\n      <td>62.0</td>\n      <td>ONS</td>\n      <td>oracle</td>\n      <td>6245.8</td>\n      <td>180.0</td>\n      <td>180.0</td>\n    </tr>\n    <tr>\n      <th>14013.0</th>\n      <td>Ali</td>\n      <td>89.0</td>\n      <td>76.0</td>\n      <td>78.0</td>\n      <td>IBM</td>\n      <td>java</td>\n      <td>2530.0</td>\n      <td>243.0</td>\n      <td>243.0</td>\n    </tr>\n  </tbody>\n</table>\n</div>"
          },
          "metadata": {},
          "execution_count": 195
        }
      ],
      "source": [
        "resultsDf"
      ]
    },
    {
      "cell_type": "code",
      "execution_count": 197,
      "metadata": {},
      "outputs": [
        {
          "output_type": "execute_result",
          "data": {
            "text/plain": [
              "name             james\n",
              "physics            120\n",
              "chemistry           27\n",
              "maths               32\n",
              "Client            HSBC\n",
              "Subject        c sharp\n",
              "salary            1320\n",
              "totalMarks         179\n",
              "totalMarks2        179\n",
              "Name: 14002.0, dtype: object"
            ]
          },
          "metadata": {},
          "execution_count": 197
        }
      ],
      "source": [
        "resultsDf.loc[14002]"
      ]
    },
    {
      "cell_type": "code",
      "execution_count": 198,
      "metadata": {},
      "outputs": [
        {
          "output_type": "execute_result",
          "data": {
            "text/plain": [
              "        name  physics  chemistry  maths Client  Subject  salary  totalMarks  \\\n",
              "regno                                                                         \n",
              "14002  james    120.0       27.0   32.0   HSBC  c sharp  1320.0       179.0   \n",
              "14005   John    120.0       48.0   50.0   HSBC     java   660.0       218.0   \n",
              "\n",
              "       totalMarks2  \n",
              "regno               \n",
              "14002        179.0  \n",
              "14005        218.0  "
            ],
            "text/html": "<div>\n<style scoped>\n    .dataframe tbody tr th:only-of-type {\n        vertical-align: middle;\n    }\n\n    .dataframe tbody tr th {\n        vertical-align: top;\n    }\n\n    .dataframe thead th {\n        text-align: right;\n    }\n</style>\n<table border=\"1\" class=\"dataframe\">\n  <thead>\n    <tr style=\"text-align: right;\">\n      <th></th>\n      <th>name</th>\n      <th>physics</th>\n      <th>chemistry</th>\n      <th>maths</th>\n      <th>Client</th>\n      <th>Subject</th>\n      <th>salary</th>\n      <th>totalMarks</th>\n      <th>totalMarks2</th>\n    </tr>\n    <tr>\n      <th>regno</th>\n      <th></th>\n      <th></th>\n      <th></th>\n      <th></th>\n      <th></th>\n      <th></th>\n      <th></th>\n      <th></th>\n      <th></th>\n    </tr>\n  </thead>\n  <tbody>\n    <tr>\n      <th>14002</th>\n      <td>james</td>\n      <td>120.0</td>\n      <td>27.0</td>\n      <td>32.0</td>\n      <td>HSBC</td>\n      <td>c sharp</td>\n      <td>1320.0</td>\n      <td>179.0</td>\n      <td>179.0</td>\n    </tr>\n    <tr>\n      <th>14005</th>\n      <td>John</td>\n      <td>120.0</td>\n      <td>48.0</td>\n      <td>50.0</td>\n      <td>HSBC</td>\n      <td>java</td>\n      <td>660.0</td>\n      <td>218.0</td>\n      <td>218.0</td>\n    </tr>\n  </tbody>\n</table>\n</div>"
          },
          "metadata": {},
          "execution_count": 198
        }
      ],
      "source": [
        "resultsDf.loc[[14002,14005]]"
      ]
    },
    {
      "cell_type": "code",
      "execution_count": 199,
      "metadata": {},
      "outputs": [
        {
          "output_type": "execute_result",
          "data": {
            "text/plain": [
              "name           John\n",
              "physics         120\n",
              "chemistry        48\n",
              "maths            50\n",
              "Client         HSBC\n",
              "Subject        java\n",
              "salary          660\n",
              "totalMarks      218\n",
              "totalMarks2     218\n",
              "Name: 14005.0, dtype: object"
            ]
          },
          "metadata": {},
          "execution_count": 199
        }
      ],
      "source": [
        "resultsDf.iloc[3]"
      ]
    },
    {
      "cell_type": "code",
      "execution_count": 201,
      "metadata": {},
      "outputs": [
        {
          "output_type": "execute_result",
          "data": {
            "text/plain": [
              "          name  physics  chemistry  maths Client  Subject  salary  totalMarks  \\\n",
              "regno                                                                           \n",
              "14002.0  james    120.0       27.0   32.0   HSBC  c sharp  1320.0       179.0   \n",
              "14003.0  james    131.0       34.0   38.0   HSBC   python  1210.0       203.0   \n",
              "14005.0   John    120.0       48.0   50.0   HSBC     java   660.0       218.0   \n",
              "\n",
              "         totalMarks2  \n",
              "regno                 \n",
              "14002.0        179.0  \n",
              "14003.0        203.0  \n",
              "14005.0        218.0  "
            ],
            "text/html": "<div>\n<style scoped>\n    .dataframe tbody tr th:only-of-type {\n        vertical-align: middle;\n    }\n\n    .dataframe tbody tr th {\n        vertical-align: top;\n    }\n\n    .dataframe thead th {\n        text-align: right;\n    }\n</style>\n<table border=\"1\" class=\"dataframe\">\n  <thead>\n    <tr style=\"text-align: right;\">\n      <th></th>\n      <th>name</th>\n      <th>physics</th>\n      <th>chemistry</th>\n      <th>maths</th>\n      <th>Client</th>\n      <th>Subject</th>\n      <th>salary</th>\n      <th>totalMarks</th>\n      <th>totalMarks2</th>\n    </tr>\n    <tr>\n      <th>regno</th>\n      <th></th>\n      <th></th>\n      <th></th>\n      <th></th>\n      <th></th>\n      <th></th>\n      <th></th>\n      <th></th>\n      <th></th>\n    </tr>\n  </thead>\n  <tbody>\n    <tr>\n      <th>14002.0</th>\n      <td>james</td>\n      <td>120.0</td>\n      <td>27.0</td>\n      <td>32.0</td>\n      <td>HSBC</td>\n      <td>c sharp</td>\n      <td>1320.0</td>\n      <td>179.0</td>\n      <td>179.0</td>\n    </tr>\n    <tr>\n      <th>14003.0</th>\n      <td>james</td>\n      <td>131.0</td>\n      <td>34.0</td>\n      <td>38.0</td>\n      <td>HSBC</td>\n      <td>python</td>\n      <td>1210.0</td>\n      <td>203.0</td>\n      <td>203.0</td>\n    </tr>\n    <tr>\n      <th>14005.0</th>\n      <td>John</td>\n      <td>120.0</td>\n      <td>48.0</td>\n      <td>50.0</td>\n      <td>HSBC</td>\n      <td>java</td>\n      <td>660.0</td>\n      <td>218.0</td>\n      <td>218.0</td>\n    </tr>\n  </tbody>\n</table>\n</div>"
          },
          "metadata": {},
          "execution_count": 201
        }
      ],
      "source": [
        "resultsDf.iloc[[1,2,3]]"
      ]
    },
    {
      "cell_type": "code",
      "execution_count": 202,
      "metadata": {},
      "outputs": [
        {
          "output_type": "execute_result",
          "data": {
            "text/plain": [
              "            name  physics  chemistry  maths Client  Subject  salary  \\\n",
              "regno                                                                 \n",
              "14001.0  shafeeq     90.0       20.0   26.0    IBM     java  1100.0   \n",
              "14002.0    james    120.0       27.0   32.0   HSBC  c sharp  1320.0   \n",
              "14003.0    james    131.0       34.0   38.0   HSBC   python  1210.0   \n",
              "14005.0     John    120.0       48.0   50.0   HSBC     java   660.0   \n",
              "\n",
              "         totalMarks  totalMarks2  \n",
              "regno                             \n",
              "14001.0       136.0        136.0  \n",
              "14002.0       179.0        179.0  \n",
              "14003.0       203.0        203.0  \n",
              "14005.0       218.0        218.0  "
            ],
            "text/html": "<div>\n<style scoped>\n    .dataframe tbody tr th:only-of-type {\n        vertical-align: middle;\n    }\n\n    .dataframe tbody tr th {\n        vertical-align: top;\n    }\n\n    .dataframe thead th {\n        text-align: right;\n    }\n</style>\n<table border=\"1\" class=\"dataframe\">\n  <thead>\n    <tr style=\"text-align: right;\">\n      <th></th>\n      <th>name</th>\n      <th>physics</th>\n      <th>chemistry</th>\n      <th>maths</th>\n      <th>Client</th>\n      <th>Subject</th>\n      <th>salary</th>\n      <th>totalMarks</th>\n      <th>totalMarks2</th>\n    </tr>\n    <tr>\n      <th>regno</th>\n      <th></th>\n      <th></th>\n      <th></th>\n      <th></th>\n      <th></th>\n      <th></th>\n      <th></th>\n      <th></th>\n      <th></th>\n    </tr>\n  </thead>\n  <tbody>\n    <tr>\n      <th>14001.0</th>\n      <td>shafeeq</td>\n      <td>90.0</td>\n      <td>20.0</td>\n      <td>26.0</td>\n      <td>IBM</td>\n      <td>java</td>\n      <td>1100.0</td>\n      <td>136.0</td>\n      <td>136.0</td>\n    </tr>\n    <tr>\n      <th>14002.0</th>\n      <td>james</td>\n      <td>120.0</td>\n      <td>27.0</td>\n      <td>32.0</td>\n      <td>HSBC</td>\n      <td>c sharp</td>\n      <td>1320.0</td>\n      <td>179.0</td>\n      <td>179.0</td>\n    </tr>\n    <tr>\n      <th>14003.0</th>\n      <td>james</td>\n      <td>131.0</td>\n      <td>34.0</td>\n      <td>38.0</td>\n      <td>HSBC</td>\n      <td>python</td>\n      <td>1210.0</td>\n      <td>203.0</td>\n      <td>203.0</td>\n    </tr>\n    <tr>\n      <th>14005.0</th>\n      <td>John</td>\n      <td>120.0</td>\n      <td>48.0</td>\n      <td>50.0</td>\n      <td>HSBC</td>\n      <td>java</td>\n      <td>660.0</td>\n      <td>218.0</td>\n      <td>218.0</td>\n    </tr>\n  </tbody>\n</table>\n</div>"
          },
          "metadata": {},
          "execution_count": 202
        }
      ],
      "source": [
        "resultsDf.iloc[:4]"
      ]
    },
    {
      "cell_type": "code",
      "execution_count": null,
      "metadata": {},
      "outputs": [],
      "source": []
    }
  ]
}