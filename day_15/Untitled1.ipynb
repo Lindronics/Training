{
  "nbformat": 4,
  "nbformat_minor": 0,
  "metadata": {
    "colab": {
      "name": "Untitled1.ipynb",
      "provenance": [],
      "collapsed_sections": []
    },
    "kernelspec": {
      "name": "python3",
      "display_name": "Python 3"
    }
  },
  "cells": [
    {
      "cell_type": "code",
      "metadata": {
        "id": "Fv_tk5LC78kS"
      },
      "source": [
        "import pandas as pd"
      ],
      "execution_count": 10,
      "outputs": []
    },
    {
      "cell_type": "code",
      "metadata": {
        "id": "_s-NHA8n8Br5"
      },
      "source": [
        "records = {\n",
        "    'id': [100, 102, 103],\n",
        "    'name': [\"Shafeeq\", \"Lucy\", \"John\"],\n",
        "    'marks': [29, 49, 100]\n",
        "}"
      ],
      "execution_count": 11,
      "outputs": []
    },
    {
      "cell_type": "code",
      "metadata": {
        "id": "3YYLZdKw8MDh"
      },
      "source": [
        "df = pd.DataFrame(records)"
      ],
      "execution_count": 12,
      "outputs": []
    },
    {
      "cell_type": "code",
      "metadata": {
        "id": "AfmRIUpW8Qd5",
        "outputId": "1824e53a-6b65-4573-ced9-cf72b101c171",
        "colab": {
          "base_uri": "https://localhost:8080/"
        }
      },
      "source": [
        "print(df)"
      ],
      "execution_count": 13,
      "outputs": [
        {
          "output_type": "stream",
          "name": "stdout",
          "text": [
            "    id     name  marks\n0  100  Shafeeq     29\n1  102     Lucy     49\n2  103     John    100\n"
          ]
        }
      ]
    },
    {
      "cell_type": "code",
      "metadata": {
        "id": "UtCDBJWk-phg",
        "outputId": "81abd780-4eba-408e-8b48-1e5032b992ff",
        "colab": {
          "base_uri": "https://localhost:8080/"
        }
      },
      "source": [
        "print(df.describe())"
      ],
      "execution_count": 14,
      "outputs": [
        {
          "output_type": "stream",
          "name": "stdout",
          "text": [
            "               id       marks\ncount    3.000000    3.000000\nmean   101.666667   59.333333\nstd      1.527525   36.610563\nmin    100.000000   29.000000\n25%    101.000000   39.000000\n50%    102.000000   49.000000\n75%    102.500000   74.500000\nmax    103.000000  100.000000\n"
          ]
        }
      ]
    },
    {
      "cell_type": "code",
      "metadata": {
        "id": "i0irm87l-r18",
        "outputId": "11f8e8c0-ad19-44fe-e977-f2fbdb8eff08",
        "colab": {
          "base_uri": "https://localhost:8080/"
        }
      },
      "source": [
        "print(df.columns)"
      ],
      "execution_count": 15,
      "outputs": [
        {
          "output_type": "stream",
          "name": "stdout",
          "text": [
            "Index(['id', 'name', 'marks'], dtype='object')\n"
          ]
        }
      ]
    },
    {
      "cell_type": "code",
      "metadata": {
        "id": "2V-_B2-h-x4X"
      },
      "source": [
        "df.columns = [\"RegistrationNumber\", \"StudentName\", \"ExamMarks\"]"
      ],
      "execution_count": 16,
      "outputs": []
    },
    {
      "cell_type": "code",
      "metadata": {
        "id": "SNZDR7Sz-5j_",
        "outputId": "63ed66e8-ee67-4b4e-8e5b-20bb3dbb9017",
        "colab": {
          "base_uri": "https://localhost:8080/"
        }
      },
      "source": [
        "print(df)"
      ],
      "execution_count": 17,
      "outputs": [
        {
          "output_type": "stream",
          "name": "stdout",
          "text": [
            "   RegistrationNumber StudentName  ExamMarks\n0                 100     Shafeeq         29\n1                 102        Lucy         49\n2                 103        John        100\n"
          ]
        }
      ]
    },
    {
      "cell_type": "code",
      "metadata": {
        "id": "SdvftHZpCPWg",
        "outputId": "51781d3e-2ab4-49ff-8835-c46187669b4b",
        "colab": {
          "base_uri": "https://localhost:8080/"
        }
      },
      "source": [
        "print(df.head())"
      ],
      "execution_count": 18,
      "outputs": [
        {
          "output_type": "stream",
          "name": "stdout",
          "text": [
            "   RegistrationNumber StudentName  ExamMarks\n0                 100     Shafeeq         29\n1                 102        Lucy         49\n2                 103        John        100\n"
          ]
        }
      ]
    },
    {
      "cell_type": "code",
      "metadata": {
        "id": "4fiKXuuwDLpc",
        "outputId": "1925b59e-0cfa-4c9a-f178-e68ba2ec0cad",
        "colab": {
          "base_uri": "https://localhost:8080/",
          "height": 80
        }
      },
      "source": [
        "df[2:]"
      ],
      "execution_count": 19,
      "outputs": [
        {
          "output_type": "execute_result",
          "data": {
            "text/plain": [
              "   RegistrationNumber StudentName  ExamMarks\n",
              "2                 103        John        100"
            ],
            "text/html": "<div>\n<style scoped>\n    .dataframe tbody tr th:only-of-type {\n        vertical-align: middle;\n    }\n\n    .dataframe tbody tr th {\n        vertical-align: top;\n    }\n\n    .dataframe thead th {\n        text-align: right;\n    }\n</style>\n<table border=\"1\" class=\"dataframe\">\n  <thead>\n    <tr style=\"text-align: right;\">\n      <th></th>\n      <th>RegistrationNumber</th>\n      <th>StudentName</th>\n      <th>ExamMarks</th>\n    </tr>\n  </thead>\n  <tbody>\n    <tr>\n      <th>2</th>\n      <td>103</td>\n      <td>John</td>\n      <td>100</td>\n    </tr>\n  </tbody>\n</table>\n</div>"
          },
          "metadata": {},
          "execution_count": 19
        }
      ]
    },
    {
      "cell_type": "code",
      "execution_count": 22,
      "metadata": {},
      "outputs": [
        {
          "output_type": "execute_result",
          "data": {
            "text/plain": [
              "                           Region               Country   Item Type  \\\n",
              "0    Middle East and North Africa                 Libya   Cosmetics   \n",
              "1                   North America                Canada  Vegetables   \n",
              "2    Middle East and North Africa                 Libya   Baby Food   \n",
              "3                            Asia                 Japan      Cereal   \n",
              "4              Sub-Saharan Africa                  Chad      Fruits   \n",
              "..                            ...                   ...         ...   \n",
              "995  Middle East and North Africa            Azerbaijan      Snacks   \n",
              "996                        Europe               Georgia   Baby Food   \n",
              "997  Middle East and North Africa  United Arab Emirates  Vegetables   \n",
              "998                        Europe               Finland   Household   \n",
              "999                        Europe              Portugal      Cereal   \n",
              "\n",
              "    Sales Channel Order Priority  Order Date   Order ID   Ship Date  \\\n",
              "0         Offline              M  10/18/2014  686800706  10/31/2014   \n",
              "1          Online              M  11/07/2011  185941302  12/08/2011   \n",
              "2         Offline              C  10/31/2016  246222341  12/09/2016   \n",
              "3         Offline              C  04/10/2010  161442649  05/12/2010   \n",
              "4         Offline              H   8/16/2011  645713555   8/31/2011   \n",
              "..            ...            ...         ...        ...         ...   \n",
              "995       Offline              C   4/18/2010  534085166   4/25/2010   \n",
              "996       Offline              H  08/01/2011  590768182  09/07/2011   \n",
              "997        Online              C  05/12/2011  524363124   6/28/2011   \n",
              "998       Offline              L   1/25/2016  289606320   2/14/2016   \n",
              "999       Offline              C  04/10/2014  811546599  05/08/2014   \n",
              "\n",
              "     Units Sold  Unit Price  Unit Cost  Total Revenue  Total Cost  \\\n",
              "0          8446      437.20     263.33     3692591.20  2224085.18   \n",
              "1          3018      154.06      90.93      464953.08   274426.74   \n",
              "2          1517      255.28     159.42      387259.76   241840.14   \n",
              "3          3322      205.70     117.11      683335.40   389039.42   \n",
              "4          9845        9.33       6.92       91853.85    68127.40   \n",
              "..          ...         ...        ...            ...         ...   \n",
              "995        6524      152.58      97.44      995431.92   635698.56   \n",
              "996         288      255.28     159.42       73520.64    45912.96   \n",
              "997        9556      154.06      90.93     1472197.36   868927.08   \n",
              "998        9801      668.27     502.54     6549714.27  4925394.54   \n",
              "999        3528      205.70     117.11      725709.60   413164.08   \n",
              "\n",
              "     Total Profit  \n",
              "0      1468506.02  \n",
              "1       190526.34  \n",
              "2       145419.62  \n",
              "3       294295.98  \n",
              "4        23726.45  \n",
              "..            ...  \n",
              "995     359733.36  \n",
              "996      27607.68  \n",
              "997     603270.28  \n",
              "998    1624319.73  \n",
              "999     312545.52  \n",
              "\n",
              "[1000 rows x 14 columns]"
            ],
            "text/html": "<div>\n<style scoped>\n    .dataframe tbody tr th:only-of-type {\n        vertical-align: middle;\n    }\n\n    .dataframe tbody tr th {\n        vertical-align: top;\n    }\n\n    .dataframe thead th {\n        text-align: right;\n    }\n</style>\n<table border=\"1\" class=\"dataframe\">\n  <thead>\n    <tr style=\"text-align: right;\">\n      <th></th>\n      <th>Region</th>\n      <th>Country</th>\n      <th>Item Type</th>\n      <th>Sales Channel</th>\n      <th>Order Priority</th>\n      <th>Order Date</th>\n      <th>Order ID</th>\n      <th>Ship Date</th>\n      <th>Units Sold</th>\n      <th>Unit Price</th>\n      <th>Unit Cost</th>\n      <th>Total Revenue</th>\n      <th>Total Cost</th>\n      <th>Total Profit</th>\n    </tr>\n  </thead>\n  <tbody>\n    <tr>\n      <th>0</th>\n      <td>Middle East and North Africa</td>\n      <td>Libya</td>\n      <td>Cosmetics</td>\n      <td>Offline</td>\n      <td>M</td>\n      <td>10/18/2014</td>\n      <td>686800706</td>\n      <td>10/31/2014</td>\n      <td>8446</td>\n      <td>437.20</td>\n      <td>263.33</td>\n      <td>3692591.20</td>\n      <td>2224085.18</td>\n      <td>1468506.02</td>\n    </tr>\n    <tr>\n      <th>1</th>\n      <td>North America</td>\n      <td>Canada</td>\n      <td>Vegetables</td>\n      <td>Online</td>\n      <td>M</td>\n      <td>11/07/2011</td>\n      <td>185941302</td>\n      <td>12/08/2011</td>\n      <td>3018</td>\n      <td>154.06</td>\n      <td>90.93</td>\n      <td>464953.08</td>\n      <td>274426.74</td>\n      <td>190526.34</td>\n    </tr>\n    <tr>\n      <th>2</th>\n      <td>Middle East and North Africa</td>\n      <td>Libya</td>\n      <td>Baby Food</td>\n      <td>Offline</td>\n      <td>C</td>\n      <td>10/31/2016</td>\n      <td>246222341</td>\n      <td>12/09/2016</td>\n      <td>1517</td>\n      <td>255.28</td>\n      <td>159.42</td>\n      <td>387259.76</td>\n      <td>241840.14</td>\n      <td>145419.62</td>\n    </tr>\n    <tr>\n      <th>3</th>\n      <td>Asia</td>\n      <td>Japan</td>\n      <td>Cereal</td>\n      <td>Offline</td>\n      <td>C</td>\n      <td>04/10/2010</td>\n      <td>161442649</td>\n      <td>05/12/2010</td>\n      <td>3322</td>\n      <td>205.70</td>\n      <td>117.11</td>\n      <td>683335.40</td>\n      <td>389039.42</td>\n      <td>294295.98</td>\n    </tr>\n    <tr>\n      <th>4</th>\n      <td>Sub-Saharan Africa</td>\n      <td>Chad</td>\n      <td>Fruits</td>\n      <td>Offline</td>\n      <td>H</td>\n      <td>8/16/2011</td>\n      <td>645713555</td>\n      <td>8/31/2011</td>\n      <td>9845</td>\n      <td>9.33</td>\n      <td>6.92</td>\n      <td>91853.85</td>\n      <td>68127.40</td>\n      <td>23726.45</td>\n    </tr>\n    <tr>\n      <th>...</th>\n      <td>...</td>\n      <td>...</td>\n      <td>...</td>\n      <td>...</td>\n      <td>...</td>\n      <td>...</td>\n      <td>...</td>\n      <td>...</td>\n      <td>...</td>\n      <td>...</td>\n      <td>...</td>\n      <td>...</td>\n      <td>...</td>\n      <td>...</td>\n    </tr>\n    <tr>\n      <th>995</th>\n      <td>Middle East and North Africa</td>\n      <td>Azerbaijan</td>\n      <td>Snacks</td>\n      <td>Offline</td>\n      <td>C</td>\n      <td>4/18/2010</td>\n      <td>534085166</td>\n      <td>4/25/2010</td>\n      <td>6524</td>\n      <td>152.58</td>\n      <td>97.44</td>\n      <td>995431.92</td>\n      <td>635698.56</td>\n      <td>359733.36</td>\n    </tr>\n    <tr>\n      <th>996</th>\n      <td>Europe</td>\n      <td>Georgia</td>\n      <td>Baby Food</td>\n      <td>Offline</td>\n      <td>H</td>\n      <td>08/01/2011</td>\n      <td>590768182</td>\n      <td>09/07/2011</td>\n      <td>288</td>\n      <td>255.28</td>\n      <td>159.42</td>\n      <td>73520.64</td>\n      <td>45912.96</td>\n      <td>27607.68</td>\n    </tr>\n    <tr>\n      <th>997</th>\n      <td>Middle East and North Africa</td>\n      <td>United Arab Emirates</td>\n      <td>Vegetables</td>\n      <td>Online</td>\n      <td>C</td>\n      <td>05/12/2011</td>\n      <td>524363124</td>\n      <td>6/28/2011</td>\n      <td>9556</td>\n      <td>154.06</td>\n      <td>90.93</td>\n      <td>1472197.36</td>\n      <td>868927.08</td>\n      <td>603270.28</td>\n    </tr>\n    <tr>\n      <th>998</th>\n      <td>Europe</td>\n      <td>Finland</td>\n      <td>Household</td>\n      <td>Offline</td>\n      <td>L</td>\n      <td>1/25/2016</td>\n      <td>289606320</td>\n      <td>2/14/2016</td>\n      <td>9801</td>\n      <td>668.27</td>\n      <td>502.54</td>\n      <td>6549714.27</td>\n      <td>4925394.54</td>\n      <td>1624319.73</td>\n    </tr>\n    <tr>\n      <th>999</th>\n      <td>Europe</td>\n      <td>Portugal</td>\n      <td>Cereal</td>\n      <td>Offline</td>\n      <td>C</td>\n      <td>04/10/2014</td>\n      <td>811546599</td>\n      <td>05/08/2014</td>\n      <td>3528</td>\n      <td>205.70</td>\n      <td>117.11</td>\n      <td>725709.60</td>\n      <td>413164.08</td>\n      <td>312545.52</td>\n    </tr>\n  </tbody>\n</table>\n<p>1000 rows × 14 columns</p>\n</div>"
          },
          "metadata": {},
          "execution_count": 22
        }
      ],
      "source": [
        "df = pd.read_csv(\"Sales_Records.csv\")\n",
        "df"
      ]
    },
    {
      "cell_type": "code",
      "execution_count": null,
      "metadata": {},
      "outputs": [],
      "source": []
    }
  ]
}