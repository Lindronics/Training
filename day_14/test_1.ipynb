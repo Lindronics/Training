{
 "metadata": {
  "language_info": {
   "codemirror_mode": {
    "name": "ipython",
    "version": 3
   },
   "file_extension": ".py",
   "mimetype": "text/x-python",
   "name": "python",
   "nbconvert_exporter": "python",
   "pygments_lexer": "ipython3",
   "version": "3.7.7-final"
  },
  "orig_nbformat": 2,
  "kernelspec": {
   "name": "python3",
   "display_name": "Python 3"
  }
 },
 "nbformat": 4,
 "nbformat_minor": 2,
 "cells": [
  {
   "cell_type": "code",
   "execution_count": 1,
   "metadata": {},
   "outputs": [
    {
     "output_type": "stream",
     "name": "stdout",
     "text": [
      "2\n"
     ]
    }
   ],
   "source": [
    "message = input(\"Message:\")\n",
    "word = input(\"Word to find:\")\n",
    "\n",
    "print(message.split().count(word))"
   ]
  },
  {
   "cell_type": "code",
   "execution_count": 2,
   "metadata": {},
   "outputs": [
    {
     "output_type": "stream",
     "name": "stdout",
     "text": [
      "A\nB\nC\nD\nE\nF\nG\nH\nI\nJ\nK\nL\nM\nN\nO\nP\nQ\nR\nS\nT\nU\nV\nW\nX\nY\n"
     ]
    }
   ],
   "source": [
    "i=65\n",
    "while i<90:\n",
    "    print( chr(i))\n",
    "    i=i+1"
   ]
  },
  {
   "cell_type": "code",
   "execution_count": 3,
   "metadata": {},
   "outputs": [
    {
     "output_type": "stream",
     "name": "stdout",
     "text": [
      "AsLKDFJDLKFJDKLFJDKLF\n"
     ]
    }
   ],
   "source": [
    "message=input(\"Enter Any Message\")\n",
    "newmessage=\"\"\n",
    "i=0\n",
    "while i<len(message):\n",
    "    if ord(message[i])>=97 and ord(message[i])<=112:\n",
    "        newmessage+= chr(ord(message[i])-32)\n",
    "    elif ord(message[i])>=65 and ord(message[i])<=90:\n",
    "        newmessage+= chr(ord(message[i])+32)\n",
    "    elif ord(message[i])>=48 and ord(message[i])<=57:\n",
    "        newmessage+=str(int(message[i])*2)\n",
    "    else:\n",
    "        newmessage+=message[i]\n",
    "    i=i+1\n",
    "print(newmessage)"
   ]
  },
  {
   "cell_type": "code",
   "execution_count": null,
   "metadata": {},
   "outputs": [],
   "source": []
  }
 ]
}